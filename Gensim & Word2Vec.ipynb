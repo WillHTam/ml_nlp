{
 "cells": [
  {
   "cell_type": "code",
   "execution_count": 14,
   "metadata": {},
   "outputs": [],
   "source": [
    "import gzip\n",
    "import gensim \n",
    "import logging\n",
    "\n",
    "logging.basicConfig(format='%(asctime)s : %(levelname)s : %(message)s', level=logging.INFO)"
   ]
  },
  {
   "cell_type": "markdown",
   "metadata": {},
   "source": [
    "Dataset: \n",
    "\n",
    "_Ganesan, K. A., and C. X. Zhai, “Opinion-Based Entity Ranking“, Information Retrieval._\n",
    "\n",
    "```\n",
    "{\n",
    "  @article{ganesan2012opinion,\n",
    "  title={Opinion-based entity ranking},\n",
    "  author={Ganesan, Kavita and Zhai, ChengXiang},\n",
    "  journal={Information retrieval},\n",
    "  volume={15},\n",
    "  number={2},\n",
    "  pages={116--150},\n",
    "  year={2012},\n",
    "  publisher={Springer} \n",
    "}\n",
    "```"
   ]
  },
  {
   "cell_type": "markdown",
   "metadata": {},
   "source": [
    "Word2Vec is...\n",
    "\n",
    "1. Take a 3 layer neural network. (1 input layer + 1 hidden layer + 1 output layer)\n",
    "2. Feed it a word and train it to predict its neighbouring word.\n",
    "3. Remove the last (output layer) and keep the input and hidden layer.\n",
    "4. Now, input a word from within the vocabulary. The output given at the hidden layer is the ‘word embedding’ of the input word."
   ]
  },
  {
   "cell_type": "code",
   "execution_count": 15,
   "metadata": {},
   "outputs": [
    {
     "name": "stdout",
     "output_type": "stream",
     "text": [
      "OpinRankDatasetWithJudgments.zip  reviews_data.txt.gz\r\n"
     ]
    }
   ],
   "source": [
    "ls Data"
   ]
  },
  {
   "cell_type": "markdown",
   "metadata": {},
   "source": [
    "## Import"
   ]
  },
  {
   "cell_type": "code",
   "execution_count": 16,
   "metadata": {},
   "outputs": [
    {
     "name": "stdout",
     "output_type": "stream",
     "text": [
      "b\"Oct 12 2009 \\tNice trendy hotel location not too bad.\\tI stayed in this hotel for one night. As this is a fairly new place some of the taxi drivers did not know where it was and/or did not want to drive there. Once I have eventually arrived at the hotel, I was very pleasantly surprised with the decor of the lobby/ground floor area. It was very stylish and modern. I found the reception's staff geeting me with 'Aloha' a bit out of place, but I guess they are briefed to say that to keep up the coroporate image.As I have a Starwood Preferred Guest member, I was given a small gift upon-check in. It was only a couple of fridge magnets in a gift box, but nevertheless a nice gesture.My room was nice and roomy, there are tea and coffee facilities in each room and you get two complimentary bottles of water plus some toiletries by 'bliss'.The location is not great. It is at the last metro stop and you then need to take a taxi, but if you are not planning on going to see the historic sites in Beijing, then you will be ok.I chose to have some breakfast in the hotel, which was really tasty and there was a good selection of dishes. There are a couple of computers to use in the communal area, as well as a pool table. There is also a small swimming pool and a gym area.I would definitely stay in this hotel again, but only if I did not plan to travel to central Beijing, as it can take a long time. The location is ok if you plan to do a lot of shopping, as there is a big shopping centre just few minutes away from the hotel and there are plenty of eating options around, including restaurants that serve a dog meat!\\t\\r\\n\"\n"
     ]
    }
   ],
   "source": [
    "input_file = './Data/reviews_data.txt.gz'\n",
    "\n",
    "with gzip.open (input_file, 'rb') as f:\n",
    "        for i,line in enumerate (f):\n",
    "            print(line)\n",
    "            break"
   ]
  },
  {
   "cell_type": "markdown",
   "metadata": {},
   "source": [
    " Gensim’s Word2Vec tutorial says that you need to pass a list of tokenized sentences as the input to Word2Vec. However, you can actually pass in a whole review as a sentence (i.e. a much larger size of text), if you have a lot of data and it should not make much of a difference. In the end, all we are using the dataset for is to get all neighboring words (the context) for a given target word."
   ]
  },
  {
   "cell_type": "code",
   "execution_count": 17,
   "metadata": {},
   "outputs": [],
   "source": [
    "def read_input(input_file):\n",
    "    \"\"\"This method reads the input file which is in gzip format\"\"\"\n",
    " \n",
    "    logging.info(\"reading file {0}...this may take a while\".format(input_file))\n",
    "    with gzip.open(input_file, 'rb') as f:\n",
    "        for i, line in enumerate(f):\n",
    " \n",
    "            if (i % 10000 == 0):\n",
    "                logging.info(\"read {0} reviews\".format(i))\n",
    "            # do some pre-processing and return list of words for each review\n",
    "            # This does some basic pre-processing such as tokenization, lowercasing, etc. and returns back a list of tokens (words)\n",
    "            yield gensim.utils.simple_preprocess(line)"
   ]
  },
  {
   "cell_type": "code",
   "execution_count": 19,
   "metadata": {},
   "outputs": [
    {
     "name": "stderr",
     "output_type": "stream",
     "text": [
      "2018-07-02 10:12:12,979 : INFO : reading file ./Data/reviews_data.txt.gz...this may take a while\n",
      "2018-07-02 10:12:12,981 : INFO : read 0 reviews\n",
      "2018-07-02 10:12:15,610 : INFO : read 10000 reviews\n",
      "2018-07-02 10:12:18,252 : INFO : read 20000 reviews\n",
      "2018-07-02 10:12:21,270 : INFO : read 30000 reviews\n",
      "2018-07-02 10:12:24,080 : INFO : read 40000 reviews\n",
      "2018-07-02 10:12:27,440 : INFO : read 50000 reviews\n",
      "2018-07-02 10:12:30,537 : INFO : read 60000 reviews\n",
      "2018-07-02 10:12:33,098 : INFO : read 70000 reviews\n",
      "2018-07-02 10:12:35,421 : INFO : read 80000 reviews\n",
      "2018-07-02 10:12:37,919 : INFO : read 90000 reviews\n",
      "2018-07-02 10:12:40,336 : INFO : read 100000 reviews\n",
      "2018-07-02 10:12:42,775 : INFO : read 110000 reviews\n",
      "2018-07-02 10:12:45,164 : INFO : read 120000 reviews\n",
      "2018-07-02 10:12:47,605 : INFO : read 130000 reviews\n",
      "2018-07-02 10:12:50,731 : INFO : read 140000 reviews\n",
      "2018-07-02 10:12:53,128 : INFO : read 150000 reviews\n",
      "2018-07-02 10:12:55,671 : INFO : read 160000 reviews\n",
      "2018-07-02 10:12:58,142 : INFO : read 170000 reviews\n",
      "2018-07-02 10:13:00,715 : INFO : read 180000 reviews\n",
      "2018-07-02 10:13:03,240 : INFO : read 190000 reviews\n",
      "2018-07-02 10:13:05,990 : INFO : read 200000 reviews\n",
      "2018-07-02 10:13:08,623 : INFO : read 210000 reviews\n",
      "2018-07-02 10:13:11,257 : INFO : read 220000 reviews\n",
      "2018-07-02 10:13:14,567 : INFO : read 230000 reviews\n",
      "2018-07-02 10:13:17,112 : INFO : read 240000 reviews\n",
      "2018-07-02 10:13:19,621 : INFO : read 250000 reviews\n",
      "2018-07-02 10:13:20,991 : INFO : Done reading data file\n"
     ]
    }
   ],
   "source": [
    "documents = list (read_input (input_file))\n",
    "logging.info (\"Done reading data file\")"
   ]
  },
  {
   "cell_type": "markdown",
   "metadata": {},
   "source": [
    "## Training\n",
    "- instantiate Word2Vec and pass the reviews that we read in the previous step.  consists of list of lists\n",
    "- Where each list within the main list contains a set of tokens from a user review. Word2Vec uses all these tokens to internally create a vocabulary (set of unique words)\n",
    "\n",
    "- After building the vocabulary, we just need to call train(...) to start training the Word2Vec model.\n",
    "- Behind the scenes we are actually training a simple neural network with a single hidden layer. But, we are actually not going to use the neural network after training. Instead, the goal is to learn the weights of the hidden layer. These weights are essentially the word vectors that we’re trying to learn.\n",
    "    - The resulting learned vector is also known as the embeddings. You can think of these embeddings as some features that describe the target word. For example, the word `king` may be described by the gender, age, the type of people the king associates with, etc."
   ]
  },
  {
   "cell_type": "markdown",
   "metadata": {},
   "source": [
    "### parameters\n",
    "- size\n",
    "    - The size of the dense vector to represent each token or word. If you have very limited data, then size should be a much smaller value. If you have lots of data, its good to experiment with various sizes. A value of 100-150 has worked well for me\n",
    "- window\n",
    "    - The maximum distance between the target word and its neighboring word. If your neighbor's position is greater than the maximum window width to the left and the right, then, some neighbors are not considered as being related to the target word. In theory, a smaller window should give you terms that are more related. If you have lots of data, then the window size should not matter too much, as long as its a decent sized window.\n",
    "- min_count \n",
    "    - Minimium frequency count of words. The model would ignore words that do not statisfy the min_count. Extremely infrequent words are usually unimportant, so its best to get rid of those. Unless your dataset is really tiny, this does not really affect the model.\n",
    "- workers\n",
    "    - no. of threads to use"
   ]
  },
  {
   "cell_type": "code",
   "execution_count": 20,
   "metadata": {
    "scrolled": false
   },
   "outputs": [
    {
     "name": "stderr",
     "output_type": "stream",
     "text": [
      "2018-07-02 10:14:25,272 : WARNING : consider setting layer size to a multiple of 4 for greater performance\n",
      "2018-07-02 10:14:25,273 : INFO : collecting all words and their counts\n",
      "2018-07-02 10:14:25,274 : INFO : PROGRESS: at sentence #0, processed 0 words, keeping 0 word types\n",
      "2018-07-02 10:14:25,613 : INFO : PROGRESS: at sentence #10000, processed 1655714 words, keeping 25777 word types\n",
      "2018-07-02 10:14:25,945 : INFO : PROGRESS: at sentence #20000, processed 3317863 words, keeping 35016 word types\n",
      "2018-07-02 10:14:26,350 : INFO : PROGRESS: at sentence #30000, processed 5264072 words, keeping 47518 word types\n",
      "2018-07-02 10:14:26,744 : INFO : PROGRESS: at sentence #40000, processed 7081746 words, keeping 56675 word types\n",
      "2018-07-02 10:14:27,167 : INFO : PROGRESS: at sentence #50000, processed 9089491 words, keeping 63744 word types\n",
      "2018-07-02 10:14:27,557 : INFO : PROGRESS: at sentence #60000, processed 11013723 words, keeping 76781 word types\n",
      "2018-07-02 10:14:27,892 : INFO : PROGRESS: at sentence #70000, processed 12637525 words, keeping 83194 word types\n",
      "2018-07-02 10:14:28,206 : INFO : PROGRESS: at sentence #80000, processed 14099751 words, keeping 88454 word types\n",
      "2018-07-02 10:14:28,525 : INFO : PROGRESS: at sentence #90000, processed 15662149 words, keeping 93352 word types\n",
      "2018-07-02 10:14:28,838 : INFO : PROGRESS: at sentence #100000, processed 17164487 words, keeping 97881 word types\n",
      "2018-07-02 10:14:29,165 : INFO : PROGRESS: at sentence #110000, processed 18652292 words, keeping 102127 word types\n",
      "2018-07-02 10:14:29,473 : INFO : PROGRESS: at sentence #120000, processed 20152529 words, keeping 105918 word types\n",
      "2018-07-02 10:14:29,807 : INFO : PROGRESS: at sentence #130000, processed 21684330 words, keeping 110099 word types\n",
      "2018-07-02 10:14:30,159 : INFO : PROGRESS: at sentence #140000, processed 23330206 words, keeping 114103 word types\n",
      "2018-07-02 10:14:30,482 : INFO : PROGRESS: at sentence #150000, processed 24838754 words, keeping 118169 word types\n",
      "2018-07-02 10:14:30,816 : INFO : PROGRESS: at sentence #160000, processed 26390910 words, keeping 118665 word types\n",
      "2018-07-02 10:14:31,148 : INFO : PROGRESS: at sentence #170000, processed 27913916 words, keeping 123350 word types\n",
      "2018-07-02 10:14:31,457 : INFO : PROGRESS: at sentence #180000, processed 29535612 words, keeping 126742 word types\n",
      "2018-07-02 10:14:31,782 : INFO : PROGRESS: at sentence #190000, processed 31096459 words, keeping 129841 word types\n",
      "2018-07-02 10:14:32,145 : INFO : PROGRESS: at sentence #200000, processed 32805271 words, keeping 133249 word types\n",
      "2018-07-02 10:14:32,474 : INFO : PROGRESS: at sentence #210000, processed 34434198 words, keeping 136358 word types\n",
      "2018-07-02 10:14:32,818 : INFO : PROGRESS: at sentence #220000, processed 36083482 words, keeping 139412 word types\n",
      "2018-07-02 10:14:33,145 : INFO : PROGRESS: at sentence #230000, processed 37571762 words, keeping 142393 word types\n",
      "2018-07-02 10:14:33,437 : INFO : PROGRESS: at sentence #240000, processed 39138190 words, keeping 145226 word types\n",
      "2018-07-02 10:14:33,760 : INFO : PROGRESS: at sentence #250000, processed 40695049 words, keeping 147960 word types\n",
      "2018-07-02 10:14:33,940 : INFO : collected 150053 word types from a corpus of 41519355 raw words and 255404 sentences\n",
      "2018-07-02 10:14:33,941 : INFO : Loading a fresh vocabulary\n",
      "2018-07-02 10:14:34,141 : INFO : min_count=2 retains 70538 unique words (47% of original 150053, drops 79515)\n",
      "2018-07-02 10:14:34,142 : INFO : min_count=2 leaves 41439840 word corpus (99% of original 41519355, drops 79515)\n",
      "2018-07-02 10:14:34,367 : INFO : deleting the raw counts dictionary of 150053 items\n",
      "2018-07-02 10:14:34,373 : INFO : sample=0.001 downsamples 55 most-common words\n",
      "2018-07-02 10:14:34,374 : INFO : downsampling leaves estimated 30349255 word corpus (73.2% of prior 41439840)\n",
      "2018-07-02 10:14:34,657 : INFO : estimated required memory for 70538 words and 150 dimensions: 119914600 bytes\n",
      "2018-07-02 10:14:34,658 : INFO : resetting layer weights\n",
      "2018-07-02 10:14:35,625 : INFO : training model with 10 workers on 70538 vocabulary and 150 features, using sg=0 hs=0 sample=0.001 negative=5 window=10\n",
      "2018-07-02 10:14:36,635 : INFO : EPOCH 1 - PROGRESS: at 4.93% examples, 1519500 words/s, in_qsize 16, out_qsize 3\n",
      "2018-07-02 10:14:37,637 : INFO : EPOCH 1 - PROGRESS: at 9.78% examples, 1545294 words/s, in_qsize 20, out_qsize 1\n",
      "2018-07-02 10:14:38,642 : INFO : EPOCH 1 - PROGRESS: at 14.16% examples, 1555102 words/s, in_qsize 19, out_qsize 0\n",
      "2018-07-02 10:14:39,642 : INFO : EPOCH 1 - PROGRESS: at 18.39% examples, 1542972 words/s, in_qsize 19, out_qsize 0\n",
      "2018-07-02 10:14:40,645 : INFO : EPOCH 1 - PROGRESS: at 22.52% examples, 1530109 words/s, in_qsize 18, out_qsize 1\n",
      "2018-07-02 10:14:41,647 : INFO : EPOCH 1 - PROGRESS: at 27.35% examples, 1532779 words/s, in_qsize 19, out_qsize 0\n",
      "2018-07-02 10:14:42,651 : INFO : EPOCH 1 - PROGRESS: at 32.94% examples, 1533142 words/s, in_qsize 17, out_qsize 2\n",
      "2018-07-02 10:14:43,653 : INFO : EPOCH 1 - PROGRESS: at 38.42% examples, 1539504 words/s, in_qsize 18, out_qsize 1\n",
      "2018-07-02 10:14:44,662 : INFO : EPOCH 1 - PROGRESS: at 43.66% examples, 1528078 words/s, in_qsize 19, out_qsize 0\n",
      "2018-07-02 10:14:45,670 : INFO : EPOCH 1 - PROGRESS: at 49.12% examples, 1527558 words/s, in_qsize 16, out_qsize 3\n",
      "2018-07-02 10:14:46,672 : INFO : EPOCH 1 - PROGRESS: at 54.44% examples, 1534203 words/s, in_qsize 19, out_qsize 0\n",
      "2018-07-02 10:14:47,676 : INFO : EPOCH 1 - PROGRESS: at 60.03% examples, 1538963 words/s, in_qsize 18, out_qsize 1\n",
      "2018-07-02 10:14:48,688 : INFO : EPOCH 1 - PROGRESS: at 65.53% examples, 1538726 words/s, in_qsize 19, out_qsize 0\n",
      "2018-07-02 10:14:49,688 : INFO : EPOCH 1 - PROGRESS: at 70.37% examples, 1534479 words/s, in_qsize 19, out_qsize 0\n",
      "2018-07-02 10:14:50,692 : INFO : EPOCH 1 - PROGRESS: at 75.61% examples, 1535092 words/s, in_qsize 18, out_qsize 1\n",
      "2018-07-02 10:14:51,698 : INFO : EPOCH 1 - PROGRESS: at 80.11% examples, 1527183 words/s, in_qsize 19, out_qsize 0\n",
      "2018-07-02 10:14:52,701 : INFO : EPOCH 1 - PROGRESS: at 84.99% examples, 1525546 words/s, in_qsize 18, out_qsize 1\n",
      "2018-07-02 10:14:53,705 : INFO : EPOCH 1 - PROGRESS: at 90.39% examples, 1525047 words/s, in_qsize 19, out_qsize 0\n",
      "2018-07-02 10:14:54,710 : INFO : EPOCH 1 - PROGRESS: at 95.52% examples, 1522646 words/s, in_qsize 19, out_qsize 0\n",
      "2018-07-02 10:14:55,548 : INFO : worker thread finished; awaiting finish of 9 more threads\n",
      "2018-07-02 10:14:55,560 : INFO : worker thread finished; awaiting finish of 8 more threads\n",
      "2018-07-02 10:14:55,563 : INFO : worker thread finished; awaiting finish of 7 more threads\n",
      "2018-07-02 10:14:55,569 : INFO : worker thread finished; awaiting finish of 6 more threads\n",
      "2018-07-02 10:14:55,572 : INFO : worker thread finished; awaiting finish of 5 more threads\n",
      "2018-07-02 10:14:55,578 : INFO : worker thread finished; awaiting finish of 4 more threads\n",
      "2018-07-02 10:14:55,582 : INFO : worker thread finished; awaiting finish of 3 more threads\n",
      "2018-07-02 10:14:55,590 : INFO : worker thread finished; awaiting finish of 2 more threads\n",
      "2018-07-02 10:14:55,591 : INFO : worker thread finished; awaiting finish of 1 more threads\n",
      "2018-07-02 10:14:55,593 : INFO : worker thread finished; awaiting finish of 0 more threads\n",
      "2018-07-02 10:14:55,594 : INFO : EPOCH - 1 : training on 41519355 raw words (30349948 effective words) took 20.0s, 1520388 effective words/s\n",
      "2018-07-02 10:14:56,611 : INFO : EPOCH 2 - PROGRESS: at 4.75% examples, 1451562 words/s, in_qsize 18, out_qsize 1\n",
      "2018-07-02 10:14:57,621 : INFO : EPOCH 2 - PROGRESS: at 9.32% examples, 1436641 words/s, in_qsize 18, out_qsize 1\n",
      "2018-07-02 10:14:58,622 : INFO : EPOCH 2 - PROGRESS: at 12.72% examples, 1393997 words/s, in_qsize 19, out_qsize 0\n",
      "2018-07-02 10:14:59,622 : INFO : EPOCH 2 - PROGRESS: at 17.05% examples, 1414641 words/s, in_qsize 18, out_qsize 1\n",
      "2018-07-02 10:15:00,632 : INFO : EPOCH 2 - PROGRESS: at 20.90% examples, 1426048 words/s, in_qsize 18, out_qsize 1\n",
      "2018-07-02 10:15:01,640 : INFO : EPOCH 2 - PROGRESS: at 25.28% examples, 1434232 words/s, in_qsize 19, out_qsize 0\n",
      "2018-07-02 10:15:02,644 : INFO : EPOCH 2 - PROGRESS: at 30.59% examples, 1437760 words/s, in_qsize 19, out_qsize 0\n",
      "2018-07-02 10:15:03,645 : INFO : EPOCH 2 - PROGRESS: at 35.70% examples, 1439180 words/s, in_qsize 19, out_qsize 0\n"
     ]
    },
    {
     "name": "stderr",
     "output_type": "stream",
     "text": [
      "2018-07-02 10:15:04,646 : INFO : EPOCH 2 - PROGRESS: at 40.78% examples, 1439214 words/s, in_qsize 18, out_qsize 1\n",
      "2018-07-02 10:15:05,648 : INFO : EPOCH 2 - PROGRESS: at 46.19% examples, 1441347 words/s, in_qsize 19, out_qsize 0\n",
      "2018-07-02 10:15:06,654 : INFO : EPOCH 2 - PROGRESS: at 51.05% examples, 1438539 words/s, in_qsize 19, out_qsize 0\n",
      "2018-07-02 10:15:07,656 : INFO : EPOCH 2 - PROGRESS: at 55.94% examples, 1438505 words/s, in_qsize 19, out_qsize 0\n",
      "2018-07-02 10:15:08,657 : INFO : EPOCH 2 - PROGRESS: at 60.90% examples, 1438589 words/s, in_qsize 19, out_qsize 0\n",
      "2018-07-02 10:15:09,667 : INFO : EPOCH 2 - PROGRESS: at 65.87% examples, 1436272 words/s, in_qsize 19, out_qsize 0\n",
      "2018-07-02 10:15:10,677 : INFO : EPOCH 2 - PROGRESS: at 70.70% examples, 1436802 words/s, in_qsize 19, out_qsize 0\n",
      "2018-07-02 10:15:11,678 : INFO : EPOCH 2 - PROGRESS: at 75.63% examples, 1438366 words/s, in_qsize 19, out_qsize 0\n",
      "2018-07-02 10:15:12,687 : INFO : EPOCH 2 - PROGRESS: at 80.13% examples, 1436397 words/s, in_qsize 18, out_qsize 1\n",
      "2018-07-02 10:15:13,693 : INFO : EPOCH 2 - PROGRESS: at 84.87% examples, 1436768 words/s, in_qsize 17, out_qsize 2\n",
      "2018-07-02 10:15:14,694 : INFO : EPOCH 2 - PROGRESS: at 89.94% examples, 1436655 words/s, in_qsize 19, out_qsize 0\n",
      "2018-07-02 10:15:15,697 : INFO : EPOCH 2 - PROGRESS: at 94.86% examples, 1436428 words/s, in_qsize 18, out_qsize 1\n",
      "2018-07-02 10:15:16,671 : INFO : worker thread finished; awaiting finish of 9 more threads\n",
      "2018-07-02 10:15:16,672 : INFO : worker thread finished; awaiting finish of 8 more threads\n",
      "2018-07-02 10:15:16,677 : INFO : worker thread finished; awaiting finish of 7 more threads\n",
      "2018-07-02 10:15:16,687 : INFO : worker thread finished; awaiting finish of 6 more threads\n",
      "2018-07-02 10:15:16,696 : INFO : worker thread finished; awaiting finish of 5 more threads\n",
      "2018-07-02 10:15:16,699 : INFO : EPOCH 2 - PROGRESS: at 99.90% examples, 1436971 words/s, in_qsize 4, out_qsize 1\n",
      "2018-07-02 10:15:16,700 : INFO : worker thread finished; awaiting finish of 4 more threads\n",
      "2018-07-02 10:15:16,702 : INFO : worker thread finished; awaiting finish of 3 more threads\n",
      "2018-07-02 10:15:16,705 : INFO : worker thread finished; awaiting finish of 2 more threads\n",
      "2018-07-02 10:15:16,706 : INFO : worker thread finished; awaiting finish of 1 more threads\n",
      "2018-07-02 10:15:16,714 : INFO : worker thread finished; awaiting finish of 0 more threads\n",
      "2018-07-02 10:15:16,715 : INFO : EPOCH - 2 : training on 41519355 raw words (30348985 effective words) took 21.1s, 1437274 effective words/s\n",
      "2018-07-02 10:15:17,722 : INFO : EPOCH 3 - PROGRESS: at 4.55% examples, 1404657 words/s, in_qsize 20, out_qsize 0\n",
      "2018-07-02 10:15:18,726 : INFO : EPOCH 3 - PROGRESS: at 9.14% examples, 1421473 words/s, in_qsize 18, out_qsize 1\n",
      "2018-07-02 10:15:19,730 : INFO : EPOCH 3 - PROGRESS: at 12.81% examples, 1405923 words/s, in_qsize 17, out_qsize 2\n",
      "2018-07-02 10:15:20,732 : INFO : EPOCH 3 - PROGRESS: at 16.80% examples, 1395947 words/s, in_qsize 19, out_qsize 0\n",
      "2018-07-02 10:15:21,738 : INFO : EPOCH 3 - PROGRESS: at 20.57% examples, 1403499 words/s, in_qsize 20, out_qsize 2\n",
      "2018-07-02 10:15:22,745 : INFO : EPOCH 3 - PROGRESS: at 24.54% examples, 1403667 words/s, in_qsize 19, out_qsize 0\n",
      "2018-07-02 10:15:23,751 : INFO : EPOCH 3 - PROGRESS: at 29.79% examples, 1407011 words/s, in_qsize 19, out_qsize 0\n",
      "2018-07-02 10:15:24,753 : INFO : EPOCH 3 - PROGRESS: at 34.89% examples, 1413159 words/s, in_qsize 19, out_qsize 0\n",
      "2018-07-02 10:15:25,758 : INFO : EPOCH 3 - PROGRESS: at 40.06% examples, 1416898 words/s, in_qsize 18, out_qsize 1\n",
      "2018-07-02 10:15:26,759 : INFO : EPOCH 3 - PROGRESS: at 45.42% examples, 1420644 words/s, in_qsize 19, out_qsize 0\n",
      "2018-07-02 10:15:27,760 : INFO : EPOCH 3 - PROGRESS: at 50.16% examples, 1415775 words/s, in_qsize 18, out_qsize 1\n",
      "2018-07-02 10:15:28,768 : INFO : EPOCH 3 - PROGRESS: at 54.37% examples, 1403756 words/s, in_qsize 19, out_qsize 0\n",
      "2018-07-02 10:15:29,777 : INFO : EPOCH 3 - PROGRESS: at 59.43% examples, 1405996 words/s, in_qsize 19, out_qsize 0\n",
      "2018-07-02 10:15:30,784 : INFO : EPOCH 3 - PROGRESS: at 64.47% examples, 1405124 words/s, in_qsize 18, out_qsize 1\n",
      "2018-07-02 10:15:31,789 : INFO : EPOCH 3 - PROGRESS: at 69.25% examples, 1407173 words/s, in_qsize 19, out_qsize 0\n",
      "2018-07-02 10:15:32,795 : INFO : EPOCH 3 - PROGRESS: at 74.13% examples, 1408723 words/s, in_qsize 19, out_qsize 0\n",
      "2018-07-02 10:15:33,803 : INFO : EPOCH 3 - PROGRESS: at 78.61% examples, 1408958 words/s, in_qsize 18, out_qsize 1\n",
      "2018-07-02 10:15:34,805 : INFO : EPOCH 3 - PROGRESS: at 83.41% examples, 1410981 words/s, in_qsize 18, out_qsize 1\n",
      "2018-07-02 10:15:35,814 : INFO : EPOCH 3 - PROGRESS: at 88.24% examples, 1411409 words/s, in_qsize 20, out_qsize 1\n",
      "2018-07-02 10:15:36,825 : INFO : EPOCH 3 - PROGRESS: at 93.20% examples, 1411877 words/s, in_qsize 20, out_qsize 1\n",
      "2018-07-02 10:15:37,830 : INFO : EPOCH 3 - PROGRESS: at 98.19% examples, 1413301 words/s, in_qsize 17, out_qsize 2\n",
      "2018-07-02 10:15:38,130 : INFO : worker thread finished; awaiting finish of 9 more threads\n",
      "2018-07-02 10:15:38,152 : INFO : worker thread finished; awaiting finish of 8 more threads\n",
      "2018-07-02 10:15:38,156 : INFO : worker thread finished; awaiting finish of 7 more threads\n",
      "2018-07-02 10:15:38,158 : INFO : worker thread finished; awaiting finish of 6 more threads\n",
      "2018-07-02 10:15:38,162 : INFO : worker thread finished; awaiting finish of 5 more threads\n",
      "2018-07-02 10:15:38,166 : INFO : worker thread finished; awaiting finish of 4 more threads\n",
      "2018-07-02 10:15:38,167 : INFO : worker thread finished; awaiting finish of 3 more threads\n",
      "2018-07-02 10:15:38,168 : INFO : worker thread finished; awaiting finish of 2 more threads\n",
      "2018-07-02 10:15:38,169 : INFO : worker thread finished; awaiting finish of 1 more threads\n",
      "2018-07-02 10:15:38,176 : INFO : worker thread finished; awaiting finish of 0 more threads\n",
      "2018-07-02 10:15:38,177 : INFO : EPOCH - 3 : training on 41519355 raw words (30345979 effective words) took 21.5s, 1414199 effective words/s\n",
      "2018-07-02 10:15:39,186 : INFO : EPOCH 4 - PROGRESS: at 4.66% examples, 1432902 words/s, in_qsize 19, out_qsize 0\n",
      "2018-07-02 10:15:40,189 : INFO : EPOCH 4 - PROGRESS: at 9.21% examples, 1429362 words/s, in_qsize 18, out_qsize 1\n",
      "2018-07-02 10:15:41,197 : INFO : EPOCH 4 - PROGRESS: at 13.11% examples, 1433281 words/s, in_qsize 17, out_qsize 2\n",
      "2018-07-02 10:15:42,207 : INFO : EPOCH 4 - PROGRESS: at 17.28% examples, 1437099 words/s, in_qsize 19, out_qsize 0\n",
      "2018-07-02 10:15:43,212 : INFO : EPOCH 4 - PROGRESS: at 21.04% examples, 1438115 words/s, in_qsize 19, out_qsize 0\n",
      "2018-07-02 10:15:44,212 : INFO : EPOCH 4 - PROGRESS: at 25.46% examples, 1444699 words/s, in_qsize 19, out_qsize 0\n",
      "2018-07-02 10:15:45,218 : INFO : EPOCH 4 - PROGRESS: at 30.73% examples, 1444285 words/s, in_qsize 19, out_qsize 0\n",
      "2018-07-02 10:15:46,224 : INFO : EPOCH 4 - PROGRESS: at 35.80% examples, 1444250 words/s, in_qsize 18, out_qsize 1\n",
      "2018-07-02 10:15:47,240 : INFO : EPOCH 4 - PROGRESS: at 41.12% examples, 1446010 words/s, in_qsize 20, out_qsize 1\n",
      "2018-07-02 10:15:48,250 : INFO : EPOCH 4 - PROGRESS: at 46.54% examples, 1449853 words/s, in_qsize 19, out_qsize 0\n",
      "2018-07-02 10:15:49,253 : INFO : EPOCH 4 - PROGRESS: at 51.60% examples, 1450377 words/s, in_qsize 20, out_qsize 3\n",
      "2018-07-02 10:15:50,266 : INFO : EPOCH 4 - PROGRESS: at 56.22% examples, 1442311 words/s, in_qsize 18, out_qsize 1\n",
      "2018-07-02 10:15:51,266 : INFO : EPOCH 4 - PROGRESS: at 61.23% examples, 1443129 words/s, in_qsize 19, out_qsize 0\n",
      "2018-07-02 10:15:52,270 : INFO : EPOCH 4 - PROGRESS: at 66.43% examples, 1445599 words/s, in_qsize 19, out_qsize 0\n",
      "2018-07-02 10:15:53,274 : INFO : EPOCH 4 - PROGRESS: at 71.21% examples, 1446272 words/s, in_qsize 19, out_qsize 0\n",
      "2018-07-02 10:15:54,277 : INFO : EPOCH 4 - PROGRESS: at 76.16% examples, 1447379 words/s, in_qsize 19, out_qsize 0\n",
      "2018-07-02 10:15:55,281 : INFO : EPOCH 4 - PROGRESS: at 80.83% examples, 1447875 words/s, in_qsize 18, out_qsize 1\n",
      "2018-07-02 10:15:56,284 : INFO : EPOCH 4 - PROGRESS: at 85.46% examples, 1446284 words/s, in_qsize 19, out_qsize 0\n",
      "2018-07-02 10:15:57,288 : INFO : EPOCH 4 - PROGRESS: at 90.47% examples, 1443627 words/s, in_qsize 18, out_qsize 1\n",
      "2018-07-02 10:15:58,295 : INFO : EPOCH 4 - PROGRESS: at 94.76% examples, 1433745 words/s, in_qsize 18, out_qsize 1\n"
     ]
    },
    {
     "name": "stderr",
     "output_type": "stream",
     "text": [
      "2018-07-02 10:15:59,307 : INFO : EPOCH 4 - PROGRESS: at 99.27% examples, 1426850 words/s, in_qsize 17, out_qsize 2\n",
      "2018-07-02 10:15:59,401 : INFO : worker thread finished; awaiting finish of 9 more threads\n",
      "2018-07-02 10:15:59,403 : INFO : worker thread finished; awaiting finish of 8 more threads\n",
      "2018-07-02 10:15:59,406 : INFO : worker thread finished; awaiting finish of 7 more threads\n",
      "2018-07-02 10:15:59,414 : INFO : worker thread finished; awaiting finish of 6 more threads\n",
      "2018-07-02 10:15:59,417 : INFO : worker thread finished; awaiting finish of 5 more threads\n",
      "2018-07-02 10:15:59,427 : INFO : worker thread finished; awaiting finish of 4 more threads\n",
      "2018-07-02 10:15:59,433 : INFO : worker thread finished; awaiting finish of 3 more threads\n",
      "2018-07-02 10:15:59,433 : INFO : worker thread finished; awaiting finish of 2 more threads\n",
      "2018-07-02 10:15:59,435 : INFO : worker thread finished; awaiting finish of 1 more threads\n",
      "2018-07-02 10:15:59,437 : INFO : worker thread finished; awaiting finish of 0 more threads\n",
      "2018-07-02 10:15:59,438 : INFO : EPOCH - 4 : training on 41519355 raw words (30347089 effective words) took 21.3s, 1427729 effective words/s\n",
      "2018-07-02 10:16:00,450 : INFO : EPOCH 5 - PROGRESS: at 4.48% examples, 1376164 words/s, in_qsize 18, out_qsize 1\n",
      "2018-07-02 10:16:01,479 : INFO : EPOCH 5 - PROGRESS: at 9.14% examples, 1401038 words/s, in_qsize 19, out_qsize 0\n",
      "2018-07-02 10:16:02,485 : INFO : EPOCH 5 - PROGRESS: at 13.02% examples, 1409893 words/s, in_qsize 18, out_qsize 1\n",
      "2018-07-02 10:16:03,490 : INFO : EPOCH 5 - PROGRESS: at 17.28% examples, 1428725 words/s, in_qsize 17, out_qsize 2\n",
      "2018-07-02 10:16:04,494 : INFO : EPOCH 5 - PROGRESS: at 20.97% examples, 1425817 words/s, in_qsize 19, out_qsize 0\n",
      "2018-07-02 10:16:05,501 : INFO : EPOCH 5 - PROGRESS: at 25.14% examples, 1422377 words/s, in_qsize 19, out_qsize 0\n",
      "2018-07-02 10:16:06,507 : INFO : EPOCH 5 - PROGRESS: at 30.07% examples, 1412673 words/s, in_qsize 19, out_qsize 0\n",
      "2018-07-02 10:16:07,518 : INFO : EPOCH 5 - PROGRESS: at 35.04% examples, 1411112 words/s, in_qsize 18, out_qsize 1\n",
      "2018-07-02 10:16:08,518 : INFO : EPOCH 5 - PROGRESS: at 39.94% examples, 1408029 words/s, in_qsize 18, out_qsize 1\n",
      "2018-07-02 10:16:09,523 : INFO : EPOCH 5 - PROGRESS: at 45.37% examples, 1413488 words/s, in_qsize 19, out_qsize 0\n",
      "2018-07-02 10:16:10,526 : INFO : EPOCH 5 - PROGRESS: at 50.16% examples, 1410333 words/s, in_qsize 20, out_qsize 0\n",
      "2018-07-02 10:16:11,532 : INFO : EPOCH 5 - PROGRESS: at 54.44% examples, 1400778 words/s, in_qsize 19, out_qsize 0\n",
      "2018-07-02 10:16:12,540 : INFO : EPOCH 5 - PROGRESS: at 59.28% examples, 1398279 words/s, in_qsize 18, out_qsize 1\n",
      "2018-07-02 10:16:13,549 : INFO : EPOCH 5 - PROGRESS: at 64.31% examples, 1397954 words/s, in_qsize 19, out_qsize 0\n",
      "2018-07-02 10:16:14,558 : INFO : EPOCH 5 - PROGRESS: at 68.93% examples, 1395834 words/s, in_qsize 19, out_qsize 0\n",
      "2018-07-02 10:16:15,558 : INFO : EPOCH 5 - PROGRESS: at 73.82% examples, 1399499 words/s, in_qsize 19, out_qsize 0\n",
      "2018-07-02 10:16:16,562 : INFO : EPOCH 5 - PROGRESS: at 78.33% examples, 1401130 words/s, in_qsize 18, out_qsize 1\n",
      "2018-07-02 10:16:17,574 : INFO : EPOCH 5 - PROGRESS: at 82.82% examples, 1398001 words/s, in_qsize 19, out_qsize 0\n",
      "2018-07-02 10:16:18,584 : INFO : EPOCH 5 - PROGRESS: at 87.47% examples, 1396755 words/s, in_qsize 20, out_qsize 0\n",
      "2018-07-02 10:16:19,589 : INFO : EPOCH 5 - PROGRESS: at 92.48% examples, 1397746 words/s, in_qsize 18, out_qsize 1\n",
      "2018-07-02 10:16:20,591 : INFO : EPOCH 5 - PROGRESS: at 97.00% examples, 1394338 words/s, in_qsize 19, out_qsize 0\n",
      "2018-07-02 10:16:21,171 : INFO : worker thread finished; awaiting finish of 9 more threads\n",
      "2018-07-02 10:16:21,177 : INFO : worker thread finished; awaiting finish of 8 more threads\n",
      "2018-07-02 10:16:21,184 : INFO : worker thread finished; awaiting finish of 7 more threads\n",
      "2018-07-02 10:16:21,193 : INFO : worker thread finished; awaiting finish of 6 more threads\n",
      "2018-07-02 10:16:21,194 : INFO : worker thread finished; awaiting finish of 5 more threads\n",
      "2018-07-02 10:16:21,199 : INFO : worker thread finished; awaiting finish of 4 more threads\n",
      "2018-07-02 10:16:21,204 : INFO : worker thread finished; awaiting finish of 3 more threads\n",
      "2018-07-02 10:16:21,208 : INFO : worker thread finished; awaiting finish of 2 more threads\n",
      "2018-07-02 10:16:21,213 : INFO : worker thread finished; awaiting finish of 1 more threads\n",
      "2018-07-02 10:16:21,214 : INFO : worker thread finished; awaiting finish of 0 more threads\n",
      "2018-07-02 10:16:21,214 : INFO : EPOCH - 5 : training on 41519355 raw words (30350391 effective words) took 21.8s, 1393987 effective words/s\n",
      "2018-07-02 10:16:21,215 : INFO : training on a 207596775 raw words (151742392 effective words) took 105.6s, 1437026 effective words/s\n",
      "2018-07-02 10:16:21,217 : WARNING : Effective 'alpha' higher than previous training cycles\n",
      "2018-07-02 10:16:21,218 : INFO : training model with 10 workers on 70538 vocabulary and 150 features, using sg=0 hs=0 sample=0.001 negative=5 window=10\n",
      "2018-07-02 10:16:22,227 : INFO : EPOCH 1 - PROGRESS: at 4.38% examples, 1348091 words/s, in_qsize 17, out_qsize 2\n",
      "2018-07-02 10:16:23,228 : INFO : EPOCH 1 - PROGRESS: at 9.01% examples, 1403684 words/s, in_qsize 19, out_qsize 0\n",
      "2018-07-02 10:16:24,237 : INFO : EPOCH 1 - PROGRESS: at 12.93% examples, 1417767 words/s, in_qsize 19, out_qsize 0\n",
      "2018-07-02 10:16:25,239 : INFO : EPOCH 1 - PROGRESS: at 17.15% examples, 1428581 words/s, in_qsize 19, out_qsize 0\n",
      "2018-07-02 10:16:26,239 : INFO : EPOCH 1 - PROGRESS: at 20.88% examples, 1428439 words/s, in_qsize 19, out_qsize 0\n",
      "2018-07-02 10:16:27,250 : INFO : EPOCH 1 - PROGRESS: at 25.17% examples, 1431872 words/s, in_qsize 17, out_qsize 2\n",
      "2018-07-02 10:16:28,250 : INFO : EPOCH 1 - PROGRESS: at 30.07% examples, 1421093 words/s, in_qsize 19, out_qsize 0\n",
      "2018-07-02 10:16:29,263 : INFO : EPOCH 1 - PROGRESS: at 34.82% examples, 1410076 words/s, in_qsize 17, out_qsize 2\n",
      "2018-07-02 10:16:30,268 : INFO : EPOCH 1 - PROGRESS: at 40.10% examples, 1417524 words/s, in_qsize 18, out_qsize 1\n",
      "2018-07-02 10:16:31,269 : INFO : EPOCH 1 - PROGRESS: at 45.70% examples, 1428963 words/s, in_qsize 19, out_qsize 0\n",
      "2018-07-02 10:16:32,279 : INFO : EPOCH 1 - PROGRESS: at 50.93% examples, 1434554 words/s, in_qsize 18, out_qsize 1\n",
      "2018-07-02 10:16:33,288 : INFO : EPOCH 1 - PROGRESS: at 55.86% examples, 1435890 words/s, in_qsize 19, out_qsize 0\n",
      "2018-07-02 10:16:34,289 : INFO : EPOCH 1 - PROGRESS: at 60.93% examples, 1438352 words/s, in_qsize 19, out_qsize 0\n",
      "2018-07-02 10:16:35,299 : INFO : EPOCH 1 - PROGRESS: at 65.92% examples, 1436576 words/s, in_qsize 19, out_qsize 0\n",
      "2018-07-02 10:16:36,307 : INFO : EPOCH 1 - PROGRESS: at 70.80% examples, 1438697 words/s, in_qsize 17, out_qsize 2\n",
      "2018-07-02 10:16:37,313 : INFO : EPOCH 1 - PROGRESS: at 75.59% examples, 1436573 words/s, in_qsize 19, out_qsize 0\n",
      "2018-07-02 10:16:38,314 : INFO : EPOCH 1 - PROGRESS: at 80.21% examples, 1437472 words/s, in_qsize 19, out_qsize 0\n",
      "2018-07-02 10:16:39,321 : INFO : EPOCH 1 - PROGRESS: at 84.87% examples, 1436567 words/s, in_qsize 19, out_qsize 0\n",
      "2018-07-02 10:16:40,323 : INFO : EPOCH 1 - PROGRESS: at 89.81% examples, 1434437 words/s, in_qsize 17, out_qsize 2\n",
      "2018-07-02 10:16:41,326 : INFO : EPOCH 1 - PROGRESS: at 94.70% examples, 1434012 words/s, in_qsize 19, out_qsize 0\n",
      "2018-07-02 10:16:42,307 : INFO : worker thread finished; awaiting finish of 9 more threads\n",
      "2018-07-02 10:16:42,317 : INFO : worker thread finished; awaiting finish of 8 more threads\n",
      "2018-07-02 10:16:42,323 : INFO : worker thread finished; awaiting finish of 7 more threads\n",
      "2018-07-02 10:16:42,326 : INFO : EPOCH 1 - PROGRESS: at 99.86% examples, 1436349 words/s, in_qsize 5, out_qsize 3\n",
      "2018-07-02 10:16:42,327 : INFO : worker thread finished; awaiting finish of 6 more threads\n",
      "2018-07-02 10:16:42,328 : INFO : worker thread finished; awaiting finish of 5 more threads\n",
      "2018-07-02 10:16:42,329 : INFO : worker thread finished; awaiting finish of 4 more threads\n",
      "2018-07-02 10:16:42,337 : INFO : worker thread finished; awaiting finish of 3 more threads\n",
      "2018-07-02 10:16:42,338 : INFO : worker thread finished; awaiting finish of 2 more threads\n",
      "2018-07-02 10:16:42,339 : INFO : worker thread finished; awaiting finish of 1 more threads\n"
     ]
    },
    {
     "name": "stderr",
     "output_type": "stream",
     "text": [
      "2018-07-02 10:16:42,346 : INFO : worker thread finished; awaiting finish of 0 more threads\n",
      "2018-07-02 10:16:42,347 : INFO : EPOCH - 1 : training on 41519355 raw words (30348927 effective words) took 21.1s, 1436852 effective words/s\n",
      "2018-07-02 10:16:43,356 : INFO : EPOCH 2 - PROGRESS: at 4.65% examples, 1432732 words/s, in_qsize 19, out_qsize 0\n",
      "2018-07-02 10:16:44,359 : INFO : EPOCH 2 - PROGRESS: at 9.35% examples, 1458560 words/s, in_qsize 20, out_qsize 0\n",
      "2018-07-02 10:16:45,371 : INFO : EPOCH 2 - PROGRESS: at 13.39% examples, 1459511 words/s, in_qsize 17, out_qsize 2\n",
      "2018-07-02 10:16:46,372 : INFO : EPOCH 2 - PROGRESS: at 17.63% examples, 1471231 words/s, in_qsize 19, out_qsize 0\n",
      "2018-07-02 10:16:47,384 : INFO : EPOCH 2 - PROGRESS: at 21.79% examples, 1467973 words/s, in_qsize 19, out_qsize 0\n",
      "2018-07-02 10:16:48,399 : INFO : EPOCH 2 - PROGRESS: at 26.17% examples, 1473054 words/s, in_qsize 19, out_qsize 0\n",
      "2018-07-02 10:16:49,406 : INFO : EPOCH 2 - PROGRESS: at 31.67% examples, 1474460 words/s, in_qsize 18, out_qsize 1\n",
      "2018-07-02 10:16:50,415 : INFO : EPOCH 2 - PROGRESS: at 36.41% examples, 1459948 words/s, in_qsize 16, out_qsize 3\n",
      "2018-07-02 10:16:51,418 : INFO : EPOCH 2 - PROGRESS: at 41.40% examples, 1452720 words/s, in_qsize 19, out_qsize 0\n",
      "2018-07-02 10:16:52,419 : INFO : EPOCH 2 - PROGRESS: at 46.77% examples, 1456346 words/s, in_qsize 19, out_qsize 0\n",
      "2018-07-02 10:16:53,425 : INFO : EPOCH 2 - PROGRESS: at 51.90% examples, 1458456 words/s, in_qsize 19, out_qsize 0\n",
      "2018-07-02 10:16:54,437 : INFO : EPOCH 2 - PROGRESS: at 56.85% examples, 1456991 words/s, in_qsize 19, out_qsize 0\n",
      "2018-07-02 10:16:55,443 : INFO : EPOCH 2 - PROGRESS: at 62.07% examples, 1461797 words/s, in_qsize 19, out_qsize 0\n",
      "2018-07-02 10:16:56,443 : INFO : EPOCH 2 - PROGRESS: at 67.23% examples, 1462042 words/s, in_qsize 20, out_qsize 1\n",
      "2018-07-02 10:16:57,444 : INFO : EPOCH 2 - PROGRESS: at 72.14% examples, 1464429 words/s, in_qsize 20, out_qsize 0\n",
      "2018-07-02 10:16:58,444 : INFO : EPOCH 2 - PROGRESS: at 76.89% examples, 1462011 words/s, in_qsize 19, out_qsize 0\n",
      "2018-07-02 10:16:59,444 : INFO : EPOCH 2 - PROGRESS: at 81.13% examples, 1453835 words/s, in_qsize 19, out_qsize 0\n",
      "2018-07-02 10:17:00,446 : INFO : EPOCH 2 - PROGRESS: at 85.79% examples, 1451635 words/s, in_qsize 19, out_qsize 0\n",
      "2018-07-02 10:17:01,474 : INFO : EPOCH 2 - PROGRESS: at 91.05% examples, 1450991 words/s, in_qsize 18, out_qsize 1\n",
      "2018-07-02 10:17:02,494 : INFO : EPOCH 2 - PROGRESS: at 96.29% examples, 1453883 words/s, in_qsize 19, out_qsize 0\n",
      "2018-07-02 10:17:03,152 : INFO : worker thread finished; awaiting finish of 9 more threads\n",
      "2018-07-02 10:17:03,158 : INFO : worker thread finished; awaiting finish of 8 more threads\n",
      "2018-07-02 10:17:03,164 : INFO : worker thread finished; awaiting finish of 7 more threads\n",
      "2018-07-02 10:17:03,170 : INFO : worker thread finished; awaiting finish of 6 more threads\n",
      "2018-07-02 10:17:03,173 : INFO : worker thread finished; awaiting finish of 5 more threads\n",
      "2018-07-02 10:17:03,179 : INFO : worker thread finished; awaiting finish of 4 more threads\n",
      "2018-07-02 10:17:03,183 : INFO : worker thread finished; awaiting finish of 3 more threads\n",
      "2018-07-02 10:17:03,184 : INFO : worker thread finished; awaiting finish of 2 more threads\n",
      "2018-07-02 10:17:03,187 : INFO : worker thread finished; awaiting finish of 1 more threads\n",
      "2018-07-02 10:17:03,190 : INFO : worker thread finished; awaiting finish of 0 more threads\n",
      "2018-07-02 10:17:03,191 : INFO : EPOCH - 2 : training on 41519355 raw words (30346079 effective words) took 20.8s, 1456226 effective words/s\n",
      "2018-07-02 10:17:04,199 : INFO : EPOCH 3 - PROGRESS: at 4.65% examples, 1433303 words/s, in_qsize 19, out_qsize 0\n",
      "2018-07-02 10:17:05,200 : INFO : EPOCH 3 - PROGRESS: at 9.32% examples, 1449299 words/s, in_qsize 17, out_qsize 2\n",
      "2018-07-02 10:17:06,200 : INFO : EPOCH 3 - PROGRESS: at 13.26% examples, 1452557 words/s, in_qsize 19, out_qsize 0\n",
      "2018-07-02 10:17:07,201 : INFO : EPOCH 3 - PROGRESS: at 17.52% examples, 1465765 words/s, in_qsize 19, out_qsize 0\n",
      "2018-07-02 10:17:08,203 : INFO : EPOCH 3 - PROGRESS: at 21.65% examples, 1465413 words/s, in_qsize 18, out_qsize 1\n",
      "2018-07-02 10:17:09,215 : INFO : EPOCH 3 - PROGRESS: at 25.89% examples, 1466606 words/s, in_qsize 18, out_qsize 1\n",
      "2018-07-02 10:17:10,226 : INFO : EPOCH 3 - PROGRESS: at 31.09% examples, 1458179 words/s, in_qsize 19, out_qsize 0\n",
      "2018-07-02 10:17:11,226 : INFO : EPOCH 3 - PROGRESS: at 36.10% examples, 1455416 words/s, in_qsize 16, out_qsize 3\n",
      "2018-07-02 10:17:12,230 : INFO : EPOCH 3 - PROGRESS: at 41.40% examples, 1457079 words/s, in_qsize 19, out_qsize 0\n",
      "2018-07-02 10:17:13,230 : INFO : EPOCH 3 - PROGRESS: at 46.54% examples, 1454702 words/s, in_qsize 20, out_qsize 1\n",
      "2018-07-02 10:17:14,231 : INFO : EPOCH 3 - PROGRESS: at 51.58% examples, 1454464 words/s, in_qsize 19, out_qsize 0\n",
      "2018-07-02 10:17:15,232 : INFO : EPOCH 3 - PROGRESS: at 56.30% examples, 1449766 words/s, in_qsize 19, out_qsize 0\n",
      "2018-07-02 10:17:16,240 : INFO : EPOCH 3 - PROGRESS: at 61.19% examples, 1446514 words/s, in_qsize 17, out_qsize 2\n",
      "2018-07-02 10:17:17,245 : INFO : EPOCH 3 - PROGRESS: at 66.20% examples, 1445120 words/s, in_qsize 18, out_qsize 1\n",
      "2018-07-02 10:17:18,250 : INFO : EPOCH 3 - PROGRESS: at 70.96% examples, 1445154 words/s, in_qsize 19, out_qsize 0\n",
      "2018-07-02 10:17:19,265 : INFO : EPOCH 3 - PROGRESS: at 75.83% examples, 1443072 words/s, in_qsize 16, out_qsize 3\n",
      "2018-07-02 10:17:20,271 : INFO : EPOCH 3 - PROGRESS: at 80.51% examples, 1444065 words/s, in_qsize 19, out_qsize 0\n",
      "2018-07-02 10:17:21,280 : INFO : EPOCH 3 - PROGRESS: at 84.84% examples, 1436688 words/s, in_qsize 19, out_qsize 0\n",
      "2018-07-02 10:17:22,301 : INFO : EPOCH 3 - PROGRESS: at 89.87% examples, 1435056 words/s, in_qsize 16, out_qsize 3\n",
      "2018-07-02 10:17:23,308 : INFO : EPOCH 3 - PROGRESS: at 94.84% examples, 1434960 words/s, in_qsize 19, out_qsize 0\n",
      "2018-07-02 10:17:24,300 : INFO : worker thread finished; awaiting finish of 9 more threads\n",
      "2018-07-02 10:17:24,308 : INFO : worker thread finished; awaiting finish of 8 more threads\n",
      "2018-07-02 10:17:24,310 : INFO : EPOCH 3 - PROGRESS: at 99.84% examples, 1435159 words/s, in_qsize 6, out_qsize 3\n",
      "2018-07-02 10:17:24,312 : INFO : worker thread finished; awaiting finish of 7 more threads\n",
      "2018-07-02 10:17:24,313 : INFO : worker thread finished; awaiting finish of 6 more threads\n",
      "2018-07-02 10:17:24,316 : INFO : worker thread finished; awaiting finish of 5 more threads\n",
      "2018-07-02 10:17:24,317 : INFO : worker thread finished; awaiting finish of 4 more threads\n",
      "2018-07-02 10:17:24,326 : INFO : worker thread finished; awaiting finish of 3 more threads\n",
      "2018-07-02 10:17:24,327 : INFO : worker thread finished; awaiting finish of 2 more threads\n",
      "2018-07-02 10:17:24,328 : INFO : worker thread finished; awaiting finish of 1 more threads\n",
      "2018-07-02 10:17:24,335 : INFO : worker thread finished; awaiting finish of 0 more threads\n",
      "2018-07-02 10:17:24,336 : INFO : EPOCH - 3 : training on 41519355 raw words (30350439 effective words) took 21.1s, 1435623 effective words/s\n",
      "2018-07-02 10:17:25,351 : INFO : EPOCH 4 - PROGRESS: at 4.76% examples, 1453115 words/s, in_qsize 18, out_qsize 1\n",
      "2018-07-02 10:17:26,352 : INFO : EPOCH 4 - PROGRESS: at 9.53% examples, 1487675 words/s, in_qsize 20, out_qsize 0\n",
      "2018-07-02 10:17:27,358 : INFO : EPOCH 4 - PROGRESS: at 13.59% examples, 1482510 words/s, in_qsize 19, out_qsize 0\n",
      "2018-07-02 10:17:28,366 : INFO : EPOCH 4 - PROGRESS: at 17.60% examples, 1465661 words/s, in_qsize 20, out_qsize 0\n",
      "2018-07-02 10:17:29,373 : INFO : EPOCH 4 - PROGRESS: at 21.03% examples, 1435945 words/s, in_qsize 19, out_qsize 0\n",
      "2018-07-02 10:17:30,376 : INFO : EPOCH 4 - PROGRESS: at 25.40% examples, 1440005 words/s, in_qsize 18, out_qsize 1\n",
      "2018-07-02 10:17:31,388 : INFO : EPOCH 4 - PROGRESS: at 30.79% examples, 1444256 words/s, in_qsize 19, out_qsize 0\n",
      "2018-07-02 10:17:32,390 : INFO : EPOCH 4 - PROGRESS: at 36.17% examples, 1454648 words/s, in_qsize 19, out_qsize 0\n",
      "2018-07-02 10:17:33,391 : INFO : EPOCH 4 - PROGRESS: at 41.63% examples, 1461097 words/s, in_qsize 19, out_qsize 0\n",
      "2018-07-02 10:17:34,397 : INFO : EPOCH 4 - PROGRESS: at 46.81% examples, 1459554 words/s, in_qsize 19, out_qsize 0\n",
      "2018-07-02 10:17:35,400 : INFO : EPOCH 4 - PROGRESS: at 51.81% examples, 1458007 words/s, in_qsize 18, out_qsize 1\n"
     ]
    },
    {
     "name": "stderr",
     "output_type": "stream",
     "text": [
      "2018-07-02 10:17:36,402 : INFO : EPOCH 4 - PROGRESS: at 56.85% examples, 1460211 words/s, in_qsize 19, out_qsize 0\n",
      "2018-07-02 10:17:37,406 : INFO : EPOCH 4 - PROGRESS: at 61.71% examples, 1456590 words/s, in_qsize 17, out_qsize 2\n",
      "2018-07-02 10:17:38,409 : INFO : EPOCH 4 - PROGRESS: at 66.97% examples, 1459576 words/s, in_qsize 19, out_qsize 0\n",
      "2018-07-02 10:17:39,415 : INFO : EPOCH 4 - PROGRESS: at 71.90% examples, 1462062 words/s, in_qsize 19, out_qsize 0\n",
      "2018-07-02 10:17:40,416 : INFO : EPOCH 4 - PROGRESS: at 76.85% examples, 1462780 words/s, in_qsize 19, out_qsize 0\n",
      "2018-07-02 10:17:41,426 : INFO : EPOCH 4 - PROGRESS: at 81.65% examples, 1463564 words/s, in_qsize 19, out_qsize 0\n",
      "2018-07-02 10:17:42,449 : INFO : EPOCH 4 - PROGRESS: at 86.64% examples, 1463824 words/s, in_qsize 19, out_qsize 0\n",
      "2018-07-02 10:17:43,461 : INFO : EPOCH 4 - PROGRESS: at 92.04% examples, 1466100 words/s, in_qsize 18, out_qsize 1\n",
      "2018-07-02 10:17:44,465 : INFO : EPOCH 4 - PROGRESS: at 97.06% examples, 1466466 words/s, in_qsize 18, out_qsize 1\n",
      "2018-07-02 10:17:44,981 : INFO : worker thread finished; awaiting finish of 9 more threads\n",
      "2018-07-02 10:17:44,992 : INFO : worker thread finished; awaiting finish of 8 more threads\n",
      "2018-07-02 10:17:44,994 : INFO : worker thread finished; awaiting finish of 7 more threads\n",
      "2018-07-02 10:17:44,996 : INFO : worker thread finished; awaiting finish of 6 more threads\n",
      "2018-07-02 10:17:44,997 : INFO : worker thread finished; awaiting finish of 5 more threads\n",
      "2018-07-02 10:17:45,000 : INFO : worker thread finished; awaiting finish of 4 more threads\n",
      "2018-07-02 10:17:45,008 : INFO : worker thread finished; awaiting finish of 3 more threads\n",
      "2018-07-02 10:17:45,010 : INFO : worker thread finished; awaiting finish of 2 more threads\n",
      "2018-07-02 10:17:45,014 : INFO : worker thread finished; awaiting finish of 1 more threads\n",
      "2018-07-02 10:17:45,018 : INFO : worker thread finished; awaiting finish of 0 more threads\n",
      "2018-07-02 10:17:45,018 : INFO : EPOCH - 4 : training on 41519355 raw words (30350425 effective words) took 20.7s, 1467830 effective words/s\n",
      "2018-07-02 10:17:46,027 : INFO : EPOCH 5 - PROGRESS: at 4.62% examples, 1424968 words/s, in_qsize 18, out_qsize 1\n",
      "2018-07-02 10:17:47,028 : INFO : EPOCH 5 - PROGRESS: at 9.36% examples, 1455507 words/s, in_qsize 18, out_qsize 1\n",
      "2018-07-02 10:17:48,034 : INFO : EPOCH 5 - PROGRESS: at 13.36% examples, 1458901 words/s, in_qsize 19, out_qsize 0\n",
      "2018-07-02 10:17:49,035 : INFO : EPOCH 5 - PROGRESS: at 17.63% examples, 1474063 words/s, in_qsize 18, out_qsize 1\n",
      "2018-07-02 10:17:50,044 : INFO : EPOCH 5 - PROGRESS: at 21.89% examples, 1480228 words/s, in_qsize 17, out_qsize 2\n",
      "2018-07-02 10:17:51,046 : INFO : EPOCH 5 - PROGRESS: at 25.93% examples, 1468130 words/s, in_qsize 19, out_qsize 0\n",
      "2018-07-02 10:17:52,051 : INFO : EPOCH 5 - PROGRESS: at 31.31% examples, 1466563 words/s, in_qsize 19, out_qsize 0\n",
      "2018-07-02 10:17:53,055 : INFO : EPOCH 5 - PROGRESS: at 36.51% examples, 1469200 words/s, in_qsize 18, out_qsize 1\n",
      "2018-07-02 10:17:54,058 : INFO : EPOCH 5 - PROGRESS: at 41.80% examples, 1467983 words/s, in_qsize 19, out_qsize 0\n",
      "2018-07-02 10:17:55,061 : INFO : EPOCH 5 - PROGRESS: at 47.13% examples, 1472036 words/s, in_qsize 19, out_qsize 0\n",
      "2018-07-02 10:17:56,065 : INFO : EPOCH 5 - PROGRESS: at 52.33% examples, 1474998 words/s, in_qsize 19, out_qsize 0\n",
      "2018-07-02 10:17:57,070 : INFO : EPOCH 5 - PROGRESS: at 57.39% examples, 1474324 words/s, in_qsize 18, out_qsize 1\n",
      "2018-07-02 10:17:58,082 : INFO : EPOCH 5 - PROGRESS: at 62.58% examples, 1476374 words/s, in_qsize 18, out_qsize 1\n",
      "2018-07-02 10:17:59,100 : INFO : EPOCH 5 - PROGRESS: at 67.43% examples, 1467668 words/s, in_qsize 19, out_qsize 0\n",
      "2018-07-02 10:18:00,100 : INFO : EPOCH 5 - PROGRESS: at 71.81% examples, 1459674 words/s, in_qsize 19, out_qsize 0\n",
      "2018-07-02 10:18:01,117 : INFO : EPOCH 5 - PROGRESS: at 76.82% examples, 1460627 words/s, in_qsize 17, out_qsize 2\n",
      "2018-07-02 10:18:02,127 : INFO : EPOCH 5 - PROGRESS: at 81.73% examples, 1463461 words/s, in_qsize 17, out_qsize 2\n",
      "2018-07-02 10:18:03,127 : INFO : EPOCH 5 - PROGRESS: at 86.66% examples, 1464466 words/s, in_qsize 16, out_qsize 3\n",
      "2018-07-02 10:18:04,129 : INFO : EPOCH 5 - PROGRESS: at 91.99% examples, 1466351 words/s, in_qsize 19, out_qsize 1\n",
      "2018-07-02 10:18:05,137 : INFO : EPOCH 5 - PROGRESS: at 97.32% examples, 1470336 words/s, in_qsize 19, out_qsize 0\n",
      "2018-07-02 10:18:05,631 : INFO : worker thread finished; awaiting finish of 9 more threads\n",
      "2018-07-02 10:18:05,632 : INFO : worker thread finished; awaiting finish of 8 more threads\n",
      "2018-07-02 10:18:05,633 : INFO : worker thread finished; awaiting finish of 7 more threads\n",
      "2018-07-02 10:18:05,643 : INFO : worker thread finished; awaiting finish of 6 more threads\n",
      "2018-07-02 10:18:05,645 : INFO : worker thread finished; awaiting finish of 5 more threads\n",
      "2018-07-02 10:18:05,648 : INFO : worker thread finished; awaiting finish of 4 more threads\n",
      "2018-07-02 10:18:05,657 : INFO : worker thread finished; awaiting finish of 3 more threads\n",
      "2018-07-02 10:18:05,660 : INFO : worker thread finished; awaiting finish of 2 more threads\n",
      "2018-07-02 10:18:05,664 : INFO : worker thread finished; awaiting finish of 1 more threads\n",
      "2018-07-02 10:18:05,670 : INFO : worker thread finished; awaiting finish of 0 more threads\n",
      "2018-07-02 10:18:05,670 : INFO : EPOCH - 5 : training on 41519355 raw words (30349251 effective words) took 20.6s, 1469894 effective words/s\n",
      "2018-07-02 10:18:06,691 : INFO : EPOCH 6 - PROGRESS: at 4.76% examples, 1444239 words/s, in_qsize 19, out_qsize 0\n",
      "2018-07-02 10:18:07,694 : INFO : EPOCH 6 - PROGRESS: at 9.41% examples, 1456311 words/s, in_qsize 19, out_qsize 0\n",
      "2018-07-02 10:18:08,705 : INFO : EPOCH 6 - PROGRESS: at 13.34% examples, 1449786 words/s, in_qsize 19, out_qsize 0\n",
      "2018-07-02 10:18:09,711 : INFO : EPOCH 6 - PROGRESS: at 17.58% examples, 1459964 words/s, in_qsize 18, out_qsize 1\n",
      "2018-07-02 10:18:10,719 : INFO : EPOCH 6 - PROGRESS: at 21.73% examples, 1460348 words/s, in_qsize 19, out_qsize 0\n",
      "2018-07-02 10:18:11,721 : INFO : EPOCH 6 - PROGRESS: at 25.96% examples, 1463952 words/s, in_qsize 18, out_qsize 1\n",
      "2018-07-02 10:18:12,724 : INFO : EPOCH 6 - PROGRESS: at 31.39% examples, 1465504 words/s, in_qsize 19, out_qsize 0\n",
      "2018-07-02 10:18:13,726 : INFO : EPOCH 6 - PROGRESS: at 36.62% examples, 1469424 words/s, in_qsize 19, out_qsize 0\n",
      "2018-07-02 10:18:14,733 : INFO : EPOCH 6 - PROGRESS: at 41.85% examples, 1465968 words/s, in_qsize 18, out_qsize 1\n",
      "2018-07-02 10:18:15,735 : INFO : EPOCH 6 - PROGRESS: at 47.05% examples, 1466721 words/s, in_qsize 19, out_qsize 0\n",
      "2018-07-02 10:18:16,741 : INFO : EPOCH 6 - PROGRESS: at 52.13% examples, 1466092 words/s, in_qsize 19, out_qsize 0\n",
      "2018-07-02 10:18:17,751 : INFO : EPOCH 6 - PROGRESS: at 57.05% examples, 1463014 words/s, in_qsize 19, out_qsize 0\n",
      "2018-07-02 10:18:18,752 : INFO : EPOCH 6 - PROGRESS: at 62.16% examples, 1465029 words/s, in_qsize 17, out_qsize 2\n",
      "2018-07-02 10:18:19,757 : INFO : EPOCH 6 - PROGRESS: at 67.43% examples, 1467244 words/s, in_qsize 19, out_qsize 0\n",
      "2018-07-02 10:18:20,767 : INFO : EPOCH 6 - PROGRESS: at 72.35% examples, 1468392 words/s, in_qsize 19, out_qsize 0\n",
      "2018-07-02 10:18:21,771 : INFO : EPOCH 6 - PROGRESS: at 76.96% examples, 1463133 words/s, in_qsize 18, out_qsize 1\n",
      "2018-07-02 10:18:22,776 : INFO : EPOCH 6 - PROGRESS: at 81.78% examples, 1464283 words/s, in_qsize 18, out_qsize 1\n",
      "2018-07-02 10:18:23,776 : INFO : EPOCH 6 - PROGRESS: at 86.81% examples, 1467190 words/s, in_qsize 19, out_qsize 0\n",
      "2018-07-02 10:18:24,783 : INFO : EPOCH 6 - PROGRESS: at 92.07% examples, 1467363 words/s, in_qsize 19, out_qsize 0\n",
      "2018-07-02 10:18:25,789 : INFO : EPOCH 6 - PROGRESS: at 97.15% examples, 1468199 words/s, in_qsize 18, out_qsize 1\n",
      "2018-07-02 10:18:26,301 : INFO : worker thread finished; awaiting finish of 9 more threads\n",
      "2018-07-02 10:18:26,309 : INFO : worker thread finished; awaiting finish of 8 more threads\n",
      "2018-07-02 10:18:26,315 : INFO : worker thread finished; awaiting finish of 7 more threads\n",
      "2018-07-02 10:18:26,318 : INFO : worker thread finished; awaiting finish of 6 more threads\n",
      "2018-07-02 10:18:26,320 : INFO : worker thread finished; awaiting finish of 5 more threads\n",
      "2018-07-02 10:18:26,331 : INFO : worker thread finished; awaiting finish of 4 more threads\n"
     ]
    },
    {
     "name": "stderr",
     "output_type": "stream",
     "text": [
      "2018-07-02 10:18:26,332 : INFO : worker thread finished; awaiting finish of 3 more threads\n",
      "2018-07-02 10:18:26,334 : INFO : worker thread finished; awaiting finish of 2 more threads\n",
      "2018-07-02 10:18:26,335 : INFO : worker thread finished; awaiting finish of 1 more threads\n",
      "2018-07-02 10:18:26,341 : INFO : worker thread finished; awaiting finish of 0 more threads\n",
      "2018-07-02 10:18:26,342 : INFO : EPOCH - 6 : training on 41519355 raw words (30350698 effective words) took 20.7s, 1468485 effective words/s\n",
      "2018-07-02 10:18:27,355 : INFO : EPOCH 7 - PROGRESS: at 4.65% examples, 1428702 words/s, in_qsize 18, out_qsize 1\n",
      "2018-07-02 10:18:28,358 : INFO : EPOCH 7 - PROGRESS: at 9.35% examples, 1452765 words/s, in_qsize 19, out_qsize 0\n",
      "2018-07-02 10:18:29,360 : INFO : EPOCH 7 - PROGRESS: at 12.87% examples, 1412838 words/s, in_qsize 18, out_qsize 1\n",
      "2018-07-02 10:18:30,362 : INFO : EPOCH 7 - PROGRESS: at 17.03% examples, 1415962 words/s, in_qsize 19, out_qsize 0\n",
      "2018-07-02 10:18:31,373 : INFO : EPOCH 7 - PROGRESS: at 20.88% examples, 1425405 words/s, in_qsize 18, out_qsize 1\n",
      "2018-07-02 10:18:32,379 : INFO : EPOCH 7 - PROGRESS: at 25.11% examples, 1429352 words/s, in_qsize 19, out_qsize 0\n",
      "2018-07-02 10:18:33,381 : INFO : EPOCH 7 - PROGRESS: at 30.45% examples, 1435050 words/s, in_qsize 17, out_qsize 2\n",
      "2018-07-02 10:18:34,392 : INFO : EPOCH 7 - PROGRESS: at 35.74% examples, 1441347 words/s, in_qsize 20, out_qsize 2\n",
      "2018-07-02 10:18:35,401 : INFO : EPOCH 7 - PROGRESS: at 41.19% examples, 1448613 words/s, in_qsize 19, out_qsize 0\n",
      "2018-07-02 10:18:36,411 : INFO : EPOCH 7 - PROGRESS: at 46.60% examples, 1452266 words/s, in_qsize 19, out_qsize 0\n",
      "2018-07-02 10:18:37,418 : INFO : EPOCH 7 - PROGRESS: at 51.76% examples, 1455273 words/s, in_qsize 18, out_qsize 1\n",
      "2018-07-02 10:18:38,429 : INFO : EPOCH 7 - PROGRESS: at 56.96% examples, 1460281 words/s, in_qsize 19, out_qsize 0\n",
      "2018-07-02 10:18:39,437 : INFO : EPOCH 7 - PROGRESS: at 62.20% examples, 1464965 words/s, in_qsize 19, out_qsize 0\n",
      "2018-07-02 10:18:40,451 : INFO : EPOCH 7 - PROGRESS: at 67.61% examples, 1468661 words/s, in_qsize 17, out_qsize 2\n",
      "2018-07-02 10:18:41,456 : INFO : EPOCH 7 - PROGRESS: at 72.25% examples, 1464982 words/s, in_qsize 19, out_qsize 0\n",
      "2018-07-02 10:18:42,457 : INFO : EPOCH 7 - PROGRESS: at 77.09% examples, 1464592 words/s, in_qsize 18, out_qsize 1\n",
      "2018-07-02 10:18:43,467 : INFO : EPOCH 7 - PROGRESS: at 81.92% examples, 1465259 words/s, in_qsize 19, out_qsize 0\n",
      "2018-07-02 10:18:44,473 : INFO : EPOCH 7 - PROGRESS: at 86.73% examples, 1464079 words/s, in_qsize 18, out_qsize 1\n",
      "2018-07-02 10:18:45,478 : INFO : EPOCH 7 - PROGRESS: at 92.10% examples, 1466143 words/s, in_qsize 17, out_qsize 2\n",
      "2018-07-02 10:18:46,489 : INFO : EPOCH 7 - PROGRESS: at 97.23% examples, 1467357 words/s, in_qsize 19, out_qsize 0\n",
      "2018-07-02 10:18:46,989 : INFO : worker thread finished; awaiting finish of 9 more threads\n",
      "2018-07-02 10:18:47,000 : INFO : worker thread finished; awaiting finish of 8 more threads\n",
      "2018-07-02 10:18:47,006 : INFO : worker thread finished; awaiting finish of 7 more threads\n",
      "2018-07-02 10:18:47,008 : INFO : worker thread finished; awaiting finish of 6 more threads\n",
      "2018-07-02 10:18:47,012 : INFO : worker thread finished; awaiting finish of 5 more threads\n",
      "2018-07-02 10:18:47,015 : INFO : worker thread finished; awaiting finish of 4 more threads\n",
      "2018-07-02 10:18:47,018 : INFO : worker thread finished; awaiting finish of 3 more threads\n",
      "2018-07-02 10:18:47,024 : INFO : worker thread finished; awaiting finish of 2 more threads\n",
      "2018-07-02 10:18:47,029 : INFO : worker thread finished; awaiting finish of 1 more threads\n",
      "2018-07-02 10:18:47,032 : INFO : worker thread finished; awaiting finish of 0 more threads\n",
      "2018-07-02 10:18:47,032 : INFO : EPOCH - 7 : training on 41519355 raw words (30351200 effective words) took 20.7s, 1467343 effective words/s\n",
      "2018-07-02 10:18:48,047 : INFO : EPOCH 8 - PROGRESS: at 4.42% examples, 1353440 words/s, in_qsize 17, out_qsize 2\n",
      "2018-07-02 10:18:49,048 : INFO : EPOCH 8 - PROGRESS: at 9.12% examples, 1417071 words/s, in_qsize 18, out_qsize 1\n",
      "2018-07-02 10:18:50,051 : INFO : EPOCH 8 - PROGRESS: at 13.22% examples, 1443726 words/s, in_qsize 16, out_qsize 3\n",
      "2018-07-02 10:18:51,052 : INFO : EPOCH 8 - PROGRESS: at 17.44% examples, 1455556 words/s, in_qsize 17, out_qsize 2\n",
      "2018-07-02 10:18:52,056 : INFO : EPOCH 8 - PROGRESS: at 21.14% examples, 1438515 words/s, in_qsize 19, out_qsize 1\n",
      "2018-07-02 10:18:53,069 : INFO : EPOCH 8 - PROGRESS: at 25.47% examples, 1444682 words/s, in_qsize 20, out_qsize 3\n",
      "2018-07-02 10:18:54,081 : INFO : EPOCH 8 - PROGRESS: at 30.98% examples, 1452473 words/s, in_qsize 18, out_qsize 1\n",
      "2018-07-02 10:18:55,081 : INFO : EPOCH 8 - PROGRESS: at 36.20% examples, 1456760 words/s, in_qsize 19, out_qsize 0\n",
      "2018-07-02 10:18:56,094 : INFO : EPOCH 8 - PROGRESS: at 41.71% examples, 1462482 words/s, in_qsize 19, out_qsize 0\n",
      "2018-07-02 10:18:57,103 : INFO : EPOCH 8 - PROGRESS: at 47.03% examples, 1465379 words/s, in_qsize 19, out_qsize 0\n",
      "2018-07-02 10:18:58,110 : INFO : EPOCH 8 - PROGRESS: at 52.16% examples, 1466078 words/s, in_qsize 19, out_qsize 0\n",
      "2018-07-02 10:18:59,110 : INFO : EPOCH 8 - PROGRESS: at 56.98% examples, 1461846 words/s, in_qsize 19, out_qsize 0\n",
      "2018-07-02 10:19:00,124 : INFO : EPOCH 8 - PROGRESS: at 61.59% examples, 1451464 words/s, in_qsize 18, out_qsize 1\n",
      "2018-07-02 10:19:01,136 : INFO : EPOCH 8 - PROGRESS: at 66.78% examples, 1452349 words/s, in_qsize 19, out_qsize 0\n",
      "2018-07-02 10:19:02,142 : INFO : EPOCH 8 - PROGRESS: at 71.75% examples, 1455828 words/s, in_qsize 19, out_qsize 0\n",
      "2018-07-02 10:19:03,148 : INFO : EPOCH 8 - PROGRESS: at 76.85% examples, 1459627 words/s, in_qsize 19, out_qsize 0\n",
      "2018-07-02 10:19:04,152 : INFO : EPOCH 8 - PROGRESS: at 81.67% examples, 1461530 words/s, in_qsize 19, out_qsize 0\n",
      "2018-07-02 10:19:05,160 : INFO : EPOCH 8 - PROGRESS: at 86.69% examples, 1463545 words/s, in_qsize 19, out_qsize 0\n",
      "2018-07-02 10:19:06,162 : INFO : EPOCH 8 - PROGRESS: at 91.99% examples, 1465099 words/s, in_qsize 20, out_qsize 0\n",
      "2018-07-02 10:19:07,169 : INFO : EPOCH 8 - PROGRESS: at 97.12% examples, 1466708 words/s, in_qsize 18, out_qsize 1\n",
      "2018-07-02 10:19:07,697 : INFO : worker thread finished; awaiting finish of 9 more threads\n",
      "2018-07-02 10:19:07,698 : INFO : worker thread finished; awaiting finish of 8 more threads\n",
      "2018-07-02 10:19:07,707 : INFO : worker thread finished; awaiting finish of 7 more threads\n",
      "2018-07-02 10:19:07,708 : INFO : worker thread finished; awaiting finish of 6 more threads\n",
      "2018-07-02 10:19:07,716 : INFO : worker thread finished; awaiting finish of 5 more threads\n",
      "2018-07-02 10:19:07,724 : INFO : worker thread finished; awaiting finish of 4 more threads\n",
      "2018-07-02 10:19:07,726 : INFO : worker thread finished; awaiting finish of 3 more threads\n",
      "2018-07-02 10:19:07,729 : INFO : worker thread finished; awaiting finish of 2 more threads\n",
      "2018-07-02 10:19:07,733 : INFO : worker thread finished; awaiting finish of 1 more threads\n",
      "2018-07-02 10:19:07,742 : INFO : worker thread finished; awaiting finish of 0 more threads\n",
      "2018-07-02 10:19:07,742 : INFO : EPOCH - 8 : training on 41519355 raw words (30350302 effective words) took 20.7s, 1465898 effective words/s\n",
      "2018-07-02 10:19:08,750 : INFO : EPOCH 9 - PROGRESS: at 4.65% examples, 1433340 words/s, in_qsize 18, out_qsize 1\n",
      "2018-07-02 10:19:09,750 : INFO : EPOCH 9 - PROGRESS: at 9.41% examples, 1467817 words/s, in_qsize 18, out_qsize 1\n",
      "2018-07-02 10:19:10,756 : INFO : EPOCH 9 - PROGRESS: at 13.42% examples, 1467222 words/s, in_qsize 17, out_qsize 2\n",
      "2018-07-02 10:19:11,760 : INFO : EPOCH 9 - PROGRESS: at 17.48% examples, 1459198 words/s, in_qsize 18, out_qsize 1\n",
      "2018-07-02 10:19:12,773 : INFO : EPOCH 9 - PROGRESS: at 21.72% examples, 1464170 words/s, in_qsize 19, out_qsize 0\n",
      "2018-07-02 10:19:13,774 : INFO : EPOCH 9 - PROGRESS: at 25.69% examples, 1456362 words/s, in_qsize 19, out_qsize 0\n",
      "2018-07-02 10:19:14,775 : INFO : EPOCH 9 - PROGRESS: at 30.95% examples, 1454329 words/s, in_qsize 19, out_qsize 0\n",
      "2018-07-02 10:19:15,779 : INFO : EPOCH 9 - PROGRESS: at 36.29% examples, 1461175 words/s, in_qsize 19, out_qsize 0\n",
      "2018-07-02 10:19:16,784 : INFO : EPOCH 9 - PROGRESS: at 41.68% examples, 1464579 words/s, in_qsize 19, out_qsize 0\n"
     ]
    },
    {
     "name": "stderr",
     "output_type": "stream",
     "text": [
      "2018-07-02 10:19:17,802 : INFO : EPOCH 9 - PROGRESS: at 46.99% examples, 1465172 words/s, in_qsize 19, out_qsize 0\n",
      "2018-07-02 10:19:18,815 : INFO : EPOCH 9 - PROGRESS: at 52.16% examples, 1466331 words/s, in_qsize 17, out_qsize 2\n",
      "2018-07-02 10:19:19,828 : INFO : EPOCH 9 - PROGRESS: at 57.32% examples, 1468339 words/s, in_qsize 20, out_qsize 3\n",
      "2018-07-02 10:19:20,838 : INFO : EPOCH 9 - PROGRESS: at 62.51% examples, 1471188 words/s, in_qsize 18, out_qsize 1\n",
      "2018-07-02 10:19:21,840 : INFO : EPOCH 9 - PROGRESS: at 67.38% examples, 1464942 words/s, in_qsize 19, out_qsize 0\n",
      "2018-07-02 10:19:22,844 : INFO : EPOCH 9 - PROGRESS: at 72.29% examples, 1466863 words/s, in_qsize 19, out_qsize 0\n",
      "2018-07-02 10:19:23,851 : INFO : EPOCH 9 - PROGRESS: at 77.15% examples, 1466336 words/s, in_qsize 17, out_qsize 2\n",
      "2018-07-02 10:19:24,854 : INFO : EPOCH 9 - PROGRESS: at 81.86% examples, 1465393 words/s, in_qsize 17, out_qsize 2\n",
      "2018-07-02 10:19:25,858 : INFO : EPOCH 9 - PROGRESS: at 86.85% examples, 1466756 words/s, in_qsize 20, out_qsize 0\n",
      "2018-07-02 10:19:26,872 : INFO : EPOCH 9 - PROGRESS: at 92.19% examples, 1467509 words/s, in_qsize 19, out_qsize 0\n",
      "2018-07-02 10:19:27,882 : INFO : EPOCH 9 - PROGRESS: at 97.35% examples, 1469077 words/s, in_qsize 19, out_qsize 0\n",
      "2018-07-02 10:19:28,351 : INFO : worker thread finished; awaiting finish of 9 more threads\n",
      "2018-07-02 10:19:28,355 : INFO : worker thread finished; awaiting finish of 8 more threads\n",
      "2018-07-02 10:19:28,369 : INFO : worker thread finished; awaiting finish of 7 more threads\n",
      "2018-07-02 10:19:28,374 : INFO : worker thread finished; awaiting finish of 6 more threads\n",
      "2018-07-02 10:19:28,375 : INFO : worker thread finished; awaiting finish of 5 more threads\n",
      "2018-07-02 10:19:28,378 : INFO : worker thread finished; awaiting finish of 4 more threads\n",
      "2018-07-02 10:19:28,385 : INFO : worker thread finished; awaiting finish of 3 more threads\n",
      "2018-07-02 10:19:28,388 : INFO : worker thread finished; awaiting finish of 2 more threads\n",
      "2018-07-02 10:19:28,389 : INFO : worker thread finished; awaiting finish of 1 more threads\n",
      "2018-07-02 10:19:28,396 : INFO : worker thread finished; awaiting finish of 0 more threads\n",
      "2018-07-02 10:19:28,397 : INFO : EPOCH - 9 : training on 41519355 raw words (30347665 effective words) took 20.6s, 1469661 effective words/s\n",
      "2018-07-02 10:19:29,403 : INFO : EPOCH 10 - PROGRESS: at 4.54% examples, 1406230 words/s, in_qsize 19, out_qsize 0\n",
      "2018-07-02 10:19:30,415 : INFO : EPOCH 10 - PROGRESS: at 8.79% examples, 1356489 words/s, in_qsize 19, out_qsize 0\n",
      "2018-07-02 10:19:31,421 : INFO : EPOCH 10 - PROGRESS: at 12.84% examples, 1404241 words/s, in_qsize 20, out_qsize 1\n",
      "2018-07-02 10:19:32,421 : INFO : EPOCH 10 - PROGRESS: at 17.20% examples, 1429648 words/s, in_qsize 19, out_qsize 0\n",
      "2018-07-02 10:19:33,422 : INFO : EPOCH 10 - PROGRESS: at 21.03% examples, 1439181 words/s, in_qsize 19, out_qsize 0\n",
      "2018-07-02 10:19:34,431 : INFO : EPOCH 10 - PROGRESS: at 25.36% examples, 1440141 words/s, in_qsize 18, out_qsize 1\n",
      "2018-07-02 10:19:35,442 : INFO : EPOCH 10 - PROGRESS: at 30.72% examples, 1443358 words/s, in_qsize 17, out_qsize 2\n",
      "2018-07-02 10:19:36,444 : INFO : EPOCH 10 - PROGRESS: at 35.99% examples, 1450514 words/s, in_qsize 18, out_qsize 1\n",
      "2018-07-02 10:19:37,450 : INFO : EPOCH 10 - PROGRESS: at 41.39% examples, 1454785 words/s, in_qsize 17, out_qsize 2\n",
      "2018-07-02 10:19:38,458 : INFO : EPOCH 10 - PROGRESS: at 46.75% examples, 1457159 words/s, in_qsize 16, out_qsize 3\n",
      "2018-07-02 10:19:39,459 : INFO : EPOCH 10 - PROGRESS: at 51.94% examples, 1461781 words/s, in_qsize 19, out_qsize 0\n",
      "2018-07-02 10:19:40,464 : INFO : EPOCH 10 - PROGRESS: at 57.08% examples, 1465166 words/s, in_qsize 17, out_qsize 2\n",
      "2018-07-02 10:19:41,477 : INFO : EPOCH 10 - PROGRESS: at 62.11% examples, 1463996 words/s, in_qsize 18, out_qsize 1\n",
      "2018-07-02 10:19:42,479 : INFO : EPOCH 10 - PROGRESS: at 67.36% examples, 1465958 words/s, in_qsize 19, out_qsize 0\n",
      "2018-07-02 10:19:43,481 : INFO : EPOCH 10 - PROGRESS: at 72.27% examples, 1468041 words/s, in_qsize 18, out_qsize 1\n",
      "2018-07-02 10:19:44,485 : INFO : EPOCH 10 - PROGRESS: at 77.07% examples, 1466351 words/s, in_qsize 18, out_qsize 1\n",
      "2018-07-02 10:19:45,487 : INFO : EPOCH 10 - PROGRESS: at 81.94% examples, 1468295 words/s, in_qsize 18, out_qsize 1\n",
      "2018-07-02 10:19:46,488 : INFO : EPOCH 10 - PROGRESS: at 86.98% examples, 1470623 words/s, in_qsize 19, out_qsize 0\n",
      "2018-07-02 10:19:47,491 : INFO : EPOCH 10 - PROGRESS: at 92.25% examples, 1471296 words/s, in_qsize 19, out_qsize 0\n",
      "2018-07-02 10:19:48,497 : INFO : EPOCH 10 - PROGRESS: at 97.41% examples, 1473004 words/s, in_qsize 18, out_qsize 1\n",
      "2018-07-02 10:19:48,942 : INFO : worker thread finished; awaiting finish of 9 more threads\n",
      "2018-07-02 10:19:48,948 : INFO : worker thread finished; awaiting finish of 8 more threads\n",
      "2018-07-02 10:19:48,957 : INFO : worker thread finished; awaiting finish of 7 more threads\n",
      "2018-07-02 10:19:48,961 : INFO : worker thread finished; awaiting finish of 6 more threads\n",
      "2018-07-02 10:19:48,963 : INFO : worker thread finished; awaiting finish of 5 more threads\n",
      "2018-07-02 10:19:48,967 : INFO : worker thread finished; awaiting finish of 4 more threads\n",
      "2018-07-02 10:19:48,976 : INFO : worker thread finished; awaiting finish of 3 more threads\n",
      "2018-07-02 10:19:48,977 : INFO : worker thread finished; awaiting finish of 2 more threads\n",
      "2018-07-02 10:19:48,981 : INFO : worker thread finished; awaiting finish of 1 more threads\n",
      "2018-07-02 10:19:48,984 : INFO : worker thread finished; awaiting finish of 0 more threads\n",
      "2018-07-02 10:19:48,985 : INFO : EPOCH - 10 : training on 41519355 raw words (30348900 effective words) took 20.6s, 1474404 effective words/s\n",
      "2018-07-02 10:19:48,985 : INFO : training on a 415193550 raw words (303493886 effective words) took 207.8s, 1460668 effective words/s\n"
     ]
    },
    {
     "data": {
      "text/plain": [
       "(303493886, 415193550)"
      ]
     },
     "execution_count": 20,
     "metadata": {},
     "output_type": "execute_result"
    }
   ],
   "source": [
    "model = gensim.models.Word2Vec (documents, size=150, window=10, min_count=2, workers=10)\n",
    "model.train(documents,total_examples=len(documents),epochs=10)"
   ]
  },
  {
   "cell_type": "markdown",
   "metadata": {},
   "source": [
    "## Output"
   ]
  },
  {
   "cell_type": "code",
   "execution_count": 21,
   "metadata": {},
   "outputs": [
    {
     "name": "stderr",
     "output_type": "stream",
     "text": [
      "2018-07-02 10:20:31,147 : INFO : precomputing L2-norms of word weight vectors\n"
     ]
    },
    {
     "data": {
      "text/plain": [
       "[('filthy', 0.8699190020561218),\n",
       " ('unclean', 0.783543050289154),\n",
       " ('stained', 0.776413083076477),\n",
       " ('dusty', 0.769402265548706),\n",
       " ('smelly', 0.7559381127357483),\n",
       " ('grubby', 0.7550261616706848),\n",
       " ('grimy', 0.7332518100738525),\n",
       " ('dingy', 0.7321920394897461),\n",
       " ('disgusting', 0.7314695119857788),\n",
       " ('soiled', 0.7235144376754761)]"
      ]
     },
     "execution_count": 21,
     "metadata": {},
     "output_type": "execute_result"
    }
   ],
   "source": [
    "# top ten most similar words to dirty\n",
    "w1 = \"dirty\"\n",
    "model.wv.most_similar (positive=w1)"
   ]
  },
  {
   "cell_type": "code",
   "execution_count": 22,
   "metadata": {},
   "outputs": [
    {
     "data": {
      "text/plain": [
       "[('courteous', 0.9224992394447327),\n",
       " ('friendly', 0.8283460140228271),\n",
       " ('cordial', 0.7979664206504822),\n",
       " ('professional', 0.7938402891159058),\n",
       " ('attentive', 0.7814623713493347),\n",
       " ('curteous', 0.7549329400062561)]"
      ]
     },
     "execution_count": 22,
     "metadata": {},
     "output_type": "execute_result"
    }
   ],
   "source": [
    "# top 6 words most similar to 'polite'\n",
    "w1 = [\"polite\"]\n",
    "model.wv.most_similar (positive=w1,topn=6)"
   ]
  },
  {
   "cell_type": "code",
   "execution_count": 23,
   "metadata": {},
   "outputs": [
    {
     "data": {
      "text/plain": [
       "[('germany', 0.6676754951477051),\n",
       " ('canada', 0.664344072341919),\n",
       " ('spain', 0.6288700103759766),\n",
       " ('gaulle', 0.617079496383667),\n",
       " ('rome', 0.6016433835029602),\n",
       " ('barcelona', 0.6009885668754578)]"
      ]
     },
     "execution_count": 23,
     "metadata": {},
     "output_type": "execute_result"
    }
   ],
   "source": [
    "# top 6 words similar to 'france'\n",
    "w1 = [\"france\"]\n",
    "model.wv.most_similar (positive=w1,topn=6)"
   ]
  },
  {
   "cell_type": "code",
   "execution_count": 24,
   "metadata": {},
   "outputs": [
    {
     "data": {
      "text/plain": [
       "[('duvet', 0.6912192702293396),\n",
       " ('mattress', 0.6829650402069092),\n",
       " ('blanket', 0.680878758430481),\n",
       " ('matress', 0.6757953763008118),\n",
       " ('pillowcase', 0.6693187952041626),\n",
       " ('quilt', 0.6675142645835876),\n",
       " ('sheets', 0.6479595899581909),\n",
       " ('pillowcases', 0.6278804540634155),\n",
       " ('foam', 0.6250860095024109),\n",
       " ('pillows', 0.6230010390281677)]"
      ]
     },
     "execution_count": 24,
     "metadata": {},
     "output_type": "execute_result"
    }
   ],
   "source": [
    "# get everything related to stuff on the bed\n",
    "w1 = [\"bed\",'sheet','pillow']\n",
    "w2 = ['couch']\n",
    "model.wv.most_similar (positive=w1,negative=w2,topn=10)"
   ]
  },
  {
   "cell_type": "markdown",
   "metadata": {},
   "source": [
    "## Similarity between two words:\n",
    "Scored 0. to 1. with cosine similarity https://en.wikipedia.org/wiki/Cosine_similarity"
   ]
  },
  {
   "cell_type": "code",
   "execution_count": 25,
   "metadata": {},
   "outputs": [
    {
     "data": {
      "text/plain": [
       "0.755938141405674"
      ]
     },
     "execution_count": 25,
     "metadata": {},
     "output_type": "execute_result"
    }
   ],
   "source": [
    "model.wv.similarity(w1=\"dirty\",w2=\"smelly\")"
   ]
  },
  {
   "cell_type": "code",
   "execution_count": 27,
   "metadata": {},
   "outputs": [
    {
     "data": {
      "text/plain": [
       "1.0"
      ]
     },
     "execution_count": 27,
     "metadata": {},
     "output_type": "execute_result"
    }
   ],
   "source": [
    "model.wv.similarity(w1=\"dirty\",w2=\"dirty\")"
   ]
  },
  {
   "cell_type": "code",
   "execution_count": 28,
   "metadata": {},
   "outputs": [
    {
     "data": {
      "text/plain": [
       "0.2701242240059547"
      ]
     },
     "execution_count": 28,
     "metadata": {},
     "output_type": "execute_result"
    }
   ],
   "source": [
    "model.wv.similarity(w1=\"dirty\",w2=\"clean\")"
   ]
  },
  {
   "cell_type": "code",
   "execution_count": 29,
   "metadata": {},
   "outputs": [
    {
     "data": {
      "text/plain": [
       "-0.0979634433881996"
      ]
     },
     "execution_count": 29,
     "metadata": {},
     "output_type": "execute_result"
    }
   ],
   "source": [
    "model.wv.similarity(w1=\"dirty\",w2=\"france\")"
   ]
  },
  {
   "cell_type": "markdown",
   "metadata": {},
   "source": [
    "---"
   ]
  },
  {
   "cell_type": "code",
   "execution_count": 30,
   "metadata": {},
   "outputs": [
    {
     "data": {
      "text/plain": [
       "'france'"
      ]
     },
     "execution_count": 30,
     "metadata": {},
     "output_type": "execute_result"
    }
   ],
   "source": [
    "# Which one is the odd one out in this list?\n",
    "model.wv.doesnt_match([\"cat\",\"dog\",\"france\"])"
   ]
  },
  {
   "cell_type": "code",
   "execution_count": 31,
   "metadata": {},
   "outputs": [
    {
     "data": {
      "text/plain": [
       "'shower'"
      ]
     },
     "execution_count": 31,
     "metadata": {},
     "output_type": "execute_result"
    }
   ],
   "source": [
    "# Which one is the odd one out in this list?\n",
    "model.wv.doesnt_match([\"bed\",\"pillow\",\"duvet\",\"shower\"])"
   ]
  },
  {
   "cell_type": "code",
   "execution_count": null,
   "metadata": {},
   "outputs": [],
   "source": []
  }
 ],
 "metadata": {
  "kernelspec": {
   "display_name": "Python 3",
   "language": "python",
   "name": "python3"
  },
  "language_info": {
   "codemirror_mode": {
    "name": "ipython",
    "version": 3
   },
   "file_extension": ".py",
   "mimetype": "text/x-python",
   "name": "python",
   "nbconvert_exporter": "python",
   "pygments_lexer": "ipython3",
   "version": "3.6.5"
  }
 },
 "nbformat": 4,
 "nbformat_minor": 2
}
