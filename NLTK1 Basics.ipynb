{
 "cells": [
  {
   "cell_type": "code",
   "execution_count": null,
   "metadata": {},
   "outputs": [],
   "source": [
    "dir() # in-scope variables\n",
    "local() # local variables\n",
    "global() # global variables\n",
    "%who # magic who\n",
    "%whos # who expanded"
   ]
  },
  {
   "cell_type": "code",
   "execution_count": null,
   "metadata": {},
   "outputs": [],
   "source": [
    "for vars in dir():\n",
    "    if vars.startswith(\"var\"):\n",
    "        print(vars)"
   ]
  },
  {
   "cell_type": "code",
   "execution_count": 1,
   "metadata": {},
   "outputs": [
    {
     "name": "stdout",
     "output_type": "stream",
     "text": [
      "*** Introductory Examples for the NLTK Book ***\n",
      "Loading text1, ..., text9 and sent1, ..., sent9\n",
      "Type the name of the text or sentence to view it.\n",
      "Type: 'texts()' or 'sents()' to list the materials.\n",
      "text1: Moby Dick by Herman Melville 1851\n",
      "text2: Sense and Sensibility by Jane Austen 1811\n",
      "text3: The Book of Genesis\n",
      "text4: Inaugural Address Corpus\n",
      "text5: Chat Corpus\n",
      "text6: Monty Python and the Holy Grail\n",
      "text7: Wall Street Journal\n",
      "text8: Personals Corpus\n",
      "text9: The Man Who Was Thursday by G . K . Chesterton 1908\n"
     ]
    }
   ],
   "source": [
    "from nltk.book import *"
   ]
  },
  {
   "cell_type": "code",
   "execution_count": 3,
   "metadata": {},
   "outputs": [
    {
     "data": {
      "text/plain": [
       "<Text: Moby Dick by Herman Melville 1851>"
      ]
     },
     "execution_count": 3,
     "metadata": {},
     "output_type": "execute_result"
    }
   ],
   "source": [
    "text1"
   ]
  },
  {
   "cell_type": "code",
   "execution_count": 12,
   "metadata": {},
   "outputs": [
    {
     "name": "stdout",
     "output_type": "stream",
     "text": [
      "Displaying 11 of 11 matches:\n",
      "ong the former , one was of a most monstrous size . ... This came towards us , \n",
      "ON OF THE PSALMS . \" Touching that monstrous bulk of the whale or ork we have r\n",
      "ll over with a heathenish array of monstrous clubs and spears . Some were thick\n",
      "d as you gazed , and wondered what monstrous cannibal and savage could ever hav\n",
      "that has survived the flood ; most monstrous and most mountainous ! That Himmal\n",
      "they might scout at Moby Dick as a monstrous fable , or still worse and more de\n",
      "th of Radney .'\" CHAPTER 55 Of the Monstrous Pictures of Whales . I shall ere l\n",
      "ing Scenes . In connexion with the monstrous pictures of whales , I am strongly\n",
      "ere to enter upon those still more monstrous stories of them which are to be fo\n",
      "ght have been rummaged out of this monstrous cabinet there is no telling . But \n",
      "of Whale - Bones ; for Whales of a monstrous size are oftentimes cast up dead u\n"
     ]
    }
   ],
   "source": [
    "# all instances of the word monstrous\n",
    "text1.concordance('monstrous')"
   ]
  },
  {
   "cell_type": "code",
   "execution_count": 13,
   "metadata": {},
   "outputs": [
    {
     "name": "stdout",
     "output_type": "stream",
     "text": [
      "true contemptible christian abundant few part mean careful puzzled\n",
      "mystifying passing curious loving wise doleful gamesome singular\n",
      "delightfully perilous fearless\n"
     ]
    }
   ],
   "source": [
    "text1.similar('monstrous')"
   ]
  },
  {
   "cell_type": "code",
   "execution_count": 14,
   "metadata": {},
   "outputs": [
    {
     "data": {
      "text/plain": [
       "<Text: Sense and Sensibility by Jane Austen 1811>"
      ]
     },
     "execution_count": 14,
     "metadata": {},
     "output_type": "execute_result"
    }
   ],
   "source": [
    "text2"
   ]
  },
  {
   "cell_type": "code",
   "execution_count": 15,
   "metadata": {},
   "outputs": [
    {
     "name": "stdout",
     "output_type": "stream",
     "text": [
      "very so exceedingly heartily a as good great extremely remarkably\n",
      "sweet vast amazingly\n"
     ]
    }
   ],
   "source": [
    "text2.similar('monstrous')"
   ]
  },
  {
   "cell_type": "markdown",
   "metadata": {},
   "source": [
    "Different uses of the word monstrous.   Austen has a more positive connotation with the word than Melville."
   ]
  },
  {
   "cell_type": "code",
   "execution_count": 16,
   "metadata": {},
   "outputs": [
    {
     "name": "stdout",
     "output_type": "stream",
     "text": [
      "a_pretty am_glad a_lucky is_pretty be_glad\n"
     ]
    }
   ],
   "source": [
    "# examine just the contexts shared by two or more words\n",
    "text2.common_contexts(['monstrous', 'very'])"
   ]
  },
  {
   "cell_type": "code",
   "execution_count": 17,
   "metadata": {},
   "outputs": [
    {
     "data": {
      "text/plain": [
       "<Text: Inaugural Address Corpus>"
      ]
     },
     "execution_count": 17,
     "metadata": {},
     "output_type": "execute_result"
    }
   ],
   "source": [
    "# see the location of a word in the text\n",
    "# create dispersion plot of how many worsd from the beginning it appears\n",
    "text4"
   ]
  },
  {
   "cell_type": "code",
   "execution_count": 20,
   "metadata": {},
   "outputs": [
    {
     "data": {
      "image/png": "[encoded data removed]",
      "text/plain": [
       "<Figure size 432x288 with 1 Axes>"
      ]
     },
     "metadata": {},
     "output_type": "display_data"
    }
   ],
   "source": [
    "text4.dispersion_plot(['citizens', 'democracy', 'freedom', 'duties', 'America'])"
   ]
  },
  {
   "cell_type": "code",
   "execution_count": 28,
   "metadata": {},
   "outputs": [
    {
     "data": {
      "text/plain": [
       "141576"
      ]
     },
     "execution_count": 28,
     "metadata": {},
     "output_type": "execute_result"
    }
   ],
   "source": [
    "# counting tokens\n",
    "len(text2)"
   ]
  },
  {
   "cell_type": "code",
   "execution_count": 31,
   "metadata": {},
   "outputs": [
    {
     "data": {
      "text/plain": [
       "['!',\n",
       " '!\"',\n",
       " '!\"--',\n",
       " \"!'\",\n",
       " '!\\'\"',\n",
       " '!--',\n",
       " '!--\"',\n",
       " '\"',\n",
       " '\"\\'',\n",
       " '\"--',\n",
       " '&',\n",
       " \"'\",\n",
       " \"',\",\n",
       " \"'--\",\n",
       " '(',\n",
       " ')',\n",
       " '),',\n",
       " ')--',\n",
       " '***',\n",
       " ',',\n",
       " ',\"',\n",
       " ',\"--',\n",
       " \",'\",\n",
       " ',)',\n",
       " ',-',\n",
       " ',--',\n",
       " ',--\"',\n",
       " '-',\n",
       " '--',\n",
       " '--\"',\n",
       " \"--'\",\n",
       " '--(',\n",
       " '--,',\n",
       " '-?',\n",
       " '-?\"',\n",
       " '.',\n",
       " '.\"',\n",
       " '.\"--',\n",
       " \".'\",\n",
       " '.\\'\"',\n",
       " \".'--\",\n",
       " '.)',\n",
       " '.)--',\n",
       " '.--',\n",
       " '.--\"',\n",
       " '...',\n",
       " '...\"',\n",
       " '.]',\n",
       " '1',\n",
       " '10',\n",
       " '11',\n",
       " '12',\n",
       " '13',\n",
       " '14',\n",
       " '15',\n",
       " '16',\n",
       " '17',\n",
       " '18',\n",
       " '1811',\n",
       " '19',\n",
       " '2',\n",
       " '20',\n",
       " '200',\n",
       " '21',\n",
       " '22',\n",
       " '23',\n",
       " '24',\n",
       " '25',\n",
       " '26',\n",
       " '27',\n",
       " '28',\n",
       " '29',\n",
       " '3',\n",
       " '30',\n",
       " '31',\n",
       " '32',\n",
       " '33',\n",
       " '34',\n",
       " '35',\n",
       " '36',\n",
       " '37',\n",
       " '38',\n",
       " '39',\n",
       " '4',\n",
       " '40',\n",
       " '41',\n",
       " '42',\n",
       " '43',\n",
       " '44',\n",
       " '45',\n",
       " '46',\n",
       " '47',\n",
       " '48',\n",
       " '49',\n",
       " '5',\n",
       " '50',\n",
       " '6',\n",
       " '7',\n",
       " '7000L',\n",
       " '8',\n",
       " '9',\n",
       " ':',\n",
       " ':--',\n",
       " ':--\"',\n",
       " ';',\n",
       " ';\"',\n",
       " ';\"--',\n",
       " \";'\",\n",
       " ';--',\n",
       " ';--\"',\n",
       " '>',\n",
       " '?',\n",
       " '?\"',\n",
       " '?\"--',\n",
       " \"?'\",\n",
       " '?)',\n",
       " '?--',\n",
       " '?--\"',\n",
       " 'A',\n",
       " 'ALL',\n",
       " 'ALMOST',\n",
       " 'ALWAYS',\n",
       " 'AM',\n",
       " 'ANY',\n",
       " 'ARE',\n",
       " 'Abbeyland',\n",
       " 'About',\n",
       " 'Absence',\n",
       " 'Abundance',\n",
       " 'Add',\n",
       " 'Affecting',\n",
       " 'After',\n",
       " 'Again',\n",
       " 'Against',\n",
       " 'Ah',\n",
       " 'All',\n",
       " 'Allenham',\n",
       " 'Allow',\n",
       " 'Almost',\n",
       " 'Altogether',\n",
       " 'Am',\n",
       " 'Among',\n",
       " 'Amongst',\n",
       " 'An',\n",
       " 'And',\n",
       " 'Annamaria',\n",
       " 'Anne',\n",
       " 'Another',\n",
       " 'Anxiety',\n",
       " 'April',\n",
       " 'Are',\n",
       " 'As',\n",
       " 'Ashamed',\n",
       " 'Astonished',\n",
       " 'Astonishment',\n",
       " 'At',\n",
       " 'Austen',\n",
       " 'Avignon',\n",
       " 'Ay',\n",
       " 'Aye',\n",
       " 'BEEN',\n",
       " 'BOTH',\n",
       " 'Bad',\n",
       " 'Bartlett',\n",
       " 'Barton',\n",
       " 'Bath',\n",
       " 'Beautifully',\n",
       " 'Because',\n",
       " 'Before',\n",
       " 'Being',\n",
       " 'Believe',\n",
       " 'Benevolent',\n",
       " 'Berkeley',\n",
       " 'Besides',\n",
       " 'Betty',\n",
       " 'Between',\n",
       " 'Beyond',\n",
       " 'Biddy',\n",
       " 'Bishop',\n",
       " 'Bond',\n",
       " 'Bonomi',\n",
       " 'Born',\n",
       " 'Brandon',\n",
       " 'Bristol',\n",
       " 'Brown',\n",
       " 'Building',\n",
       " 'Buildings',\n",
       " 'Burgess',\n",
       " 'Business',\n",
       " 'But',\n",
       " 'By',\n",
       " 'CAN',\n",
       " 'CATCHING',\n",
       " 'CHAPTER',\n",
       " 'COULD',\n",
       " 'Can',\n",
       " 'Careless',\n",
       " 'Careys',\n",
       " 'Cartwright',\n",
       " 'Casino',\n",
       " 'Cassino',\n",
       " 'Certainly',\n",
       " 'Chagrined',\n",
       " 'Charlotte',\n",
       " 'Choice',\n",
       " 'Christian',\n",
       " 'Christmas',\n",
       " 'Civil',\n",
       " 'Clarke',\n",
       " 'Cleveland',\n",
       " 'Cold',\n",
       " 'Colonel',\n",
       " 'Columella',\n",
       " 'Combe',\n",
       " 'Come',\n",
       " 'Common',\n",
       " 'Comparisons',\n",
       " 'Concealing',\n",
       " 'Concern',\n",
       " 'Conduit',\n",
       " 'Confess',\n",
       " 'Consider',\n",
       " 'Considering',\n",
       " 'Constantia',\n",
       " 'Continual',\n",
       " 'Conversation',\n",
       " 'Cottage',\n",
       " 'Could',\n",
       " 'Court',\n",
       " 'Courtland',\n",
       " 'Cowper',\n",
       " 'Cross',\n",
       " 'Cruel',\n",
       " 'D',\n",
       " 'DEAR',\n",
       " 'DID',\n",
       " 'DO',\n",
       " 'DOES',\n",
       " 'DRAW',\n",
       " 'Dartford',\n",
       " 'Dashwood',\n",
       " 'Dashwoods',\n",
       " 'Davies',\n",
       " 'Dawlish',\n",
       " 'Dear',\n",
       " 'Dearest',\n",
       " 'Delaford',\n",
       " 'Dennison',\n",
       " 'Depend',\n",
       " 'Design',\n",
       " 'Determined',\n",
       " 'Devonshire',\n",
       " 'Did',\n",
       " 'Disappointed',\n",
       " 'Disappointment',\n",
       " 'Do',\n",
       " 'Doctor',\n",
       " 'Does',\n",
       " 'Domestic',\n",
       " 'Don',\n",
       " 'Donavan',\n",
       " 'Dorsetshire',\n",
       " 'Down',\n",
       " 'Dr',\n",
       " 'Drury',\n",
       " 'Dullness',\n",
       " 'During',\n",
       " 'Duty',\n",
       " 'EDWARD',\n",
       " 'ELINOR',\n",
       " 'END',\n",
       " 'ESTEEM',\n",
       " 'Each',\n",
       " 'Eager',\n",
       " 'Early',\n",
       " 'East',\n",
       " 'Easter',\n",
       " 'Edward',\n",
       " 'Elinor',\n",
       " 'Eliza',\n",
       " 'Elliott',\n",
       " 'Ellison',\n",
       " 'Ellisons',\n",
       " 'Encouraged',\n",
       " 'Engaged',\n",
       " 'Engagement',\n",
       " 'England',\n",
       " 'Epicurism',\n",
       " 'Esq',\n",
       " 'Esteem',\n",
       " 'Even',\n",
       " 'Every',\n",
       " 'Everybody',\n",
       " 'Excellent',\n",
       " 'Exchange',\n",
       " 'Excuse',\n",
       " 'Exert',\n",
       " 'Exeter',\n",
       " 'Extend',\n",
       " 'Extravagance',\n",
       " 'F',\n",
       " 'FAITH',\n",
       " 'FERRARS',\n",
       " 'Fanny',\n",
       " 'Far',\n",
       " 'Farm',\n",
       " 'February',\n",
       " 'Ferrars',\n",
       " 'Few',\n",
       " 'Fifteen',\n",
       " 'Fifty',\n",
       " 'Five',\n",
       " 'Folly',\n",
       " 'For',\n",
       " 'Forgive',\n",
       " 'Fortunately',\n",
       " 'Four',\n",
       " 'Friday',\n",
       " 'From',\n",
       " 'Frosts',\n",
       " 'GAUCHERIE',\n",
       " 'Gardens',\n",
       " 'Gentleman',\n",
       " 'Get',\n",
       " 'Gibson',\n",
       " 'Gilberts',\n",
       " 'Go',\n",
       " 'God',\n",
       " 'Godby',\n",
       " 'Going',\n",
       " 'Gone',\n",
       " 'Good',\n",
       " 'Gracious',\n",
       " 'Grandeur',\n",
       " 'Gray',\n",
       " 'Greatness',\n",
       " 'Grecian',\n",
       " 'Grey',\n",
       " 'HAD',\n",
       " 'HAS',\n",
       " 'HE',\n",
       " 'HER',\n",
       " 'HERS',\n",
       " 'HIM',\n",
       " 'HIS',\n",
       " 'Had',\n",
       " 'Half',\n",
       " 'Hamlet',\n",
       " 'Hanger',\n",
       " 'Hanover',\n",
       " 'Happy',\n",
       " 'Harley',\n",
       " 'Harris',\n",
       " 'Harry',\n",
       " 'Has',\n",
       " 'Have',\n",
       " 'Having',\n",
       " 'He',\n",
       " 'Heaven',\n",
       " 'Henry',\n",
       " 'Henshawe',\n",
       " 'Her',\n",
       " 'Here',\n",
       " 'High',\n",
       " 'His',\n",
       " 'Hitherto',\n",
       " 'Holborn',\n",
       " 'Holburn',\n",
       " 'Hon',\n",
       " 'Honiton',\n",
       " 'Hope',\n",
       " 'Hour',\n",
       " 'House',\n",
       " 'How',\n",
       " 'However',\n",
       " 'Hum',\n",
       " 'Hunters',\n",
       " 'Hush',\n",
       " 'I',\n",
       " 'II',\n",
       " 'IN',\n",
       " 'INconvenience',\n",
       " 'IS',\n",
       " 'If',\n",
       " 'Imagine',\n",
       " 'Impatient',\n",
       " 'Impossible',\n",
       " 'Improve',\n",
       " 'Impudence',\n",
       " 'In',\n",
       " 'Indeed',\n",
       " 'Indies',\n",
       " 'Infirmity',\n",
       " 'Inn',\n",
       " 'Instead',\n",
       " 'Invited',\n",
       " 'Is',\n",
       " 'It',\n",
       " 'JOHN',\n",
       " 'James',\n",
       " 'Jane',\n",
       " 'January',\n",
       " 'Jenning',\n",
       " 'Jennings',\n",
       " 'John',\n",
       " 'Just',\n",
       " 'KNEW',\n",
       " 'Kensington',\n",
       " 'Kingham',\n",
       " 'Know',\n",
       " 'Knowing',\n",
       " 'L',\n",
       " 'LESS',\n",
       " 'LET',\n",
       " 'LONG',\n",
       " 'LOOK',\n",
       " 'LOOKED',\n",
       " 'LUCY',\n",
       " 'La',\n",
       " 'Lady',\n",
       " 'Ladyship',\n",
       " 'Lane',\n",
       " 'Last',\n",
       " 'Laughing',\n",
       " 'Law',\n",
       " 'Let',\n",
       " 'Life',\n",
       " 'Like',\n",
       " 'Little',\n",
       " 'Lodging',\n",
       " 'Lombardy',\n",
       " 'London',\n",
       " 'Long',\n",
       " 'Longstaple',\n",
       " 'Look',\n",
       " 'Lord',\n",
       " 'Luckily',\n",
       " 'Lucy',\n",
       " 'M',\n",
       " 'MADAM',\n",
       " 'MAY',\n",
       " 'ME',\n",
       " 'MIND',\n",
       " 'MONTH',\n",
       " 'MUST',\n",
       " 'MY',\n",
       " 'Ma',\n",
       " 'Mab',\n",
       " 'Madam',\n",
       " 'Magna',\n",
       " 'Mall',\n",
       " 'Mama',\n",
       " 'Mamma',\n",
       " 'Mansion',\n",
       " 'Many',\n",
       " 'March',\n",
       " 'Margaret',\n",
       " 'Marianne',\n",
       " 'Marlborough',\n",
       " 'Martha',\n",
       " 'Mary',\n",
       " 'Master',\n",
       " 'May',\n",
       " 'Me',\n",
       " 'Men',\n",
       " 'Michaelmas',\n",
       " 'Mid',\n",
       " 'Middleton',\n",
       " 'Middletons',\n",
       " 'Midsummer',\n",
       " 'Mind',\n",
       " 'Mine',\n",
       " 'Misery',\n",
       " 'Miss',\n",
       " 'Misses',\n",
       " 'Mistress',\n",
       " 'Monday',\n",
       " 'Months',\n",
       " 'More',\n",
       " 'Morton',\n",
       " 'Most',\n",
       " 'Mr',\n",
       " 'Mrs',\n",
       " 'Much',\n",
       " 'Music',\n",
       " 'Must',\n",
       " 'My',\n",
       " 'NOT',\n",
       " 'NOW',\n",
       " 'Nancy',\n",
       " 'Nay',\n",
       " 'Neither',\n",
       " 'Never',\n",
       " 'New',\n",
       " 'Newton',\n",
       " 'No',\n",
       " 'Nobody',\n",
       " 'None',\n",
       " 'Nor',\n",
       " 'Norfolk',\n",
       " 'Norland',\n",
       " 'Not',\n",
       " 'Nothing',\n",
       " 'November',\n",
       " 'Now',\n",
       " 'OCCASION',\n",
       " 'ONCE',\n",
       " 'ONE',\n",
       " 'OUGHT',\n",
       " 'OWN',\n",
       " 'October',\n",
       " 'Of',\n",
       " 'Offended',\n",
       " 'Oh',\n",
       " 'On',\n",
       " 'Once',\n",
       " 'One',\n",
       " 'Only',\n",
       " 'Opportunity',\n",
       " 'Opposition',\n",
       " 'Or',\n",
       " 'Other',\n",
       " 'Others',\n",
       " 'Our',\n",
       " 'Oxford',\n",
       " 'P',\n",
       " 'PARTIES',\n",
       " 'Pall',\n",
       " 'Palmer',\n",
       " 'Palmers',\n",
       " 'Pardon',\n",
       " 'Park',\n",
       " 'Parliament',\n",
       " 'Parrys',\n",
       " 'Parsonage',\n",
       " 'Perhaps',\n",
       " 'Pity',\n",
       " 'Please',\n",
       " 'Pleased',\n",
       " 'Plymouth',\n",
       " 'Poor',\n",
       " 'Pope',\n",
       " 'Portman',\n",
       " 'Pratt',\n",
       " 'Pray',\n",
       " 'Precious',\n",
       " 'Preparation',\n",
       " 'Prescriptions',\n",
       " 'Priory',\n",
       " 'Queen',\n",
       " 'Quite',\n",
       " 'REALLY',\n",
       " 'ROBERT',\n",
       " 'Rather',\n",
       " 'Reading',\n",
       " 'Really',\n",
       " 'Recollecting',\n",
       " 'Reflection',\n",
       " 'Regard',\n",
       " 'Relate',\n",
       " 'Remember',\n",
       " 'Reserved',\n",
       " 'Restless',\n",
       " 'Richard',\n",
       " 'Richardson',\n",
       " 'Richardsons',\n",
       " 'Robert',\n",
       " 'Rose',\n",
       " 'S',\n",
       " 'SHALL',\n",
       " 'SHE',\n",
       " 'SHOULD',\n",
       " 'SIR',\n",
       " 'SOMETIMES',\n",
       " 'STILL',\n",
       " 'Sackville',\n",
       " 'Sally',\n",
       " 'Sandersons',\n",
       " 'Saturday',\n",
       " 'Scarcely',\n",
       " 'Scotland',\n",
       " 'Scott',\n",
       " 'Secrecy',\n",
       " 'Selfish',\n",
       " 'Sense',\n",
       " 'Sensibility',\n",
       " 'September',\n",
       " 'Seven',\n",
       " 'Shakespeare',\n",
       " 'Shall',\n",
       " 'Sharpe',\n",
       " 'She',\n",
       " 'Short',\n",
       " 'Should',\n",
       " 'Shyness',\n",
       " 'Simpson',\n",
       " 'Since',\n",
       " 'Sincerely',\n",
       " 'Sir',\n",
       " 'Sit',\n",
       " 'Smith',\n",
       " 'So',\n",
       " 'Some',\n",
       " 'Somehow',\n",
       " 'Somerset',\n",
       " 'Somersetshire',\n",
       " 'Something',\n",
       " 'Sometimes',\n",
       " 'Soon',\n",
       " 'Sophia',\n",
       " 'Sparks',\n",
       " 'Square',\n",
       " 'St',\n",
       " 'Stanhill',\n",
       " 'Steele',\n",
       " 'Steeles',\n",
       " 'Still',\n",
       " 'Strange',\n",
       " 'Street',\n",
       " 'Streets',\n",
       " 'Such',\n",
       " 'Sunday',\n",
       " 'Supported',\n",
       " 'Supposing',\n",
       " 'Sure',\n",
       " 'Surely',\n",
       " 'Surprised',\n",
       " 'Sussex',\n",
       " 'THAT',\n",
       " 'THE',\n",
       " 'THEIR',\n",
       " 'THEM',\n",
       " 'THEN',\n",
       " 'THERE',\n",
       " 'THESE',\n",
       " 'THEY',\n",
       " 'THIS',\n",
       " 'THREE',\n",
       " 'TIME',\n",
       " 'TOLD',\n",
       " 'TRIED',\n",
       " 'TWICE',\n",
       " 'TWO',\n",
       " 'Take',\n",
       " 'Taylor',\n",
       " 'Tell',\n",
       " 'Temple',\n",
       " 'Thank',\n",
       " 'That',\n",
       " 'The',\n",
       " 'Their',\n",
       " 'Then',\n",
       " 'There',\n",
       " 'These',\n",
       " 'They',\n",
       " 'Think',\n",
       " 'This',\n",
       " 'Thomas',\n",
       " 'Thomson',\n",
       " 'Those',\n",
       " 'Though',\n",
       " 'Three',\n",
       " 'Thunderbolts',\n",
       " 'Thursday',\n",
       " 'Thus',\n",
       " 'Till',\n",
       " 'Time',\n",
       " 'Tis',\n",
       " 'To',\n",
       " 'Towards',\n",
       " 'Truth',\n",
       " 'Tuesday',\n",
       " 'Twice',\n",
       " 'Twill',\n",
       " 'Two',\n",
       " 'US',\n",
       " 'Unaccountable',\n",
       " 'Undoubtedly',\n",
       " 'Ungracious',\n",
       " 'Upon',\n",
       " 'Use',\n",
       " 'VERY',\n",
       " 'Valley',\n",
       " 'Vanity',\n",
       " 'Very',\n",
       " 'Volume',\n",
       " 'W',\n",
       " 'WAS',\n",
       " 'WE',\n",
       " 'WERE',\n",
       " 'WHAT',\n",
       " 'WHERE',\n",
       " 'WILL',\n",
       " 'WILLOUGHBY',\n",
       " 'WITHOUT',\n",
       " 'WORD',\n",
       " 'WOULD',\n",
       " 'Wait',\n",
       " 'Walker',\n",
       " 'Want',\n",
       " 'Was',\n",
       " 'Watched',\n",
       " 'We',\n",
       " 'Wednesday',\n",
       " 'Well',\n",
       " 'Were',\n",
       " 'Westminster',\n",
       " 'Westons',\n",
       " 'Weymouth',\n",
       " 'What',\n",
       " 'Whatever',\n",
       " 'When',\n",
       " 'Whenever',\n",
       " 'Where',\n",
       " 'Whereas',\n",
       " 'Wherever',\n",
       " 'Whether',\n",
       " 'Which',\n",
       " 'While',\n",
       " 'Whitakers',\n",
       " 'Whitwell',\n",
       " 'Who',\n",
       " 'Whoever',\n",
       " 'Whom',\n",
       " 'Why',\n",
       " 'Will',\n",
       " 'William',\n",
       " 'Williams',\n",
       " 'Willing',\n",
       " 'Willoughby',\n",
       " 'Willoughbys',\n",
       " 'With',\n",
       " 'Within',\n",
       " 'Without',\n",
       " 'Would',\n",
       " 'Writing',\n",
       " 'YOU',\n",
       " 'YOUR',\n",
       " 'Yes',\n",
       " 'Yet',\n",
       " 'You',\n",
       " 'Your',\n",
       " '[',\n",
       " ']',\n",
       " 'a',\n",
       " 'abandoned',\n",
       " 'abatement',\n",
       " 'abhor',\n",
       " 'abhorred',\n",
       " 'abhorrence',\n",
       " 'abilities',\n",
       " 'ability',\n",
       " 'able',\n",
       " 'ablest',\n",
       " 'abode',\n",
       " 'abominably',\n",
       " 'abounded',\n",
       " 'about',\n",
       " 'above',\n",
       " 'abridge',\n",
       " 'abridgement',\n",
       " 'abroad',\n",
       " 'abruptly',\n",
       " 'abruptness',\n",
       " 'absence',\n",
       " 'absent',\n",
       " 'absolute',\n",
       " 'absolutely',\n",
       " 'abstracted',\n",
       " 'abstraction',\n",
       " 'abstruse',\n",
       " 'absurd',\n",
       " 'absurdity',\n",
       " 'abundance',\n",
       " 'abundantly',\n",
       " 'abuse',\n",
       " 'abused',\n",
       " 'abuses',\n",
       " 'acacia',\n",
       " 'accelerate',\n",
       " 'accent',\n",
       " 'accents',\n",
       " 'accept',\n",
       " 'acceptable',\n",
       " 'acceptably',\n",
       " 'acceptance',\n",
       " 'accepted',\n",
       " 'accepting',\n",
       " 'accident',\n",
       " 'accidental',\n",
       " 'accidentally',\n",
       " 'accidently',\n",
       " 'accommodate',\n",
       " 'accommodating',\n",
       " 'accommodation',\n",
       " 'accommodations',\n",
       " 'accompanied',\n",
       " 'accompany',\n",
       " 'accomplished',\n",
       " 'accomplishment',\n",
       " 'accordant',\n",
       " 'according',\n",
       " 'accordingly',\n",
       " 'accosted',\n",
       " 'account',\n",
       " 'accounted',\n",
       " 'accounts',\n",
       " 'accrue',\n",
       " 'accurately',\n",
       " 'accusation',\n",
       " 'accuse',\n",
       " 'accustom',\n",
       " 'accustomary',\n",
       " 'aches',\n",
       " 'aching',\n",
       " 'acknowledge',\n",
       " 'acknowledged',\n",
       " 'acknowledging',\n",
       " 'acknowledgment',\n",
       " 'acknowledgments',\n",
       " 'acquaintance',\n",
       " 'acquaintances',\n",
       " 'acquainted',\n",
       " 'acquiesced',\n",
       " 'acquiescence',\n",
       " 'acquired',\n",
       " 'acquisition',\n",
       " 'acquit',\n",
       " 'acquitted',\n",
       " 'acquitting',\n",
       " 'across',\n",
       " 'act',\n",
       " 'acted',\n",
       " 'acting',\n",
       " 'action',\n",
       " 'actions',\n",
       " 'active',\n",
       " 'acts',\n",
       " 'actual',\n",
       " 'actually',\n",
       " 'acute',\n",
       " 'acutely',\n",
       " 'acuteness',\n",
       " 'adapted',\n",
       " 'add',\n",
       " 'added',\n",
       " 'adding',\n",
       " 'addition',\n",
       " 'additional',\n",
       " 'additions',\n",
       " 'address',\n",
       " 'addressed',\n",
       " 'addresses',\n",
       " 'addressing',\n",
       " 'adequate',\n",
       " 'adhering',\n",
       " 'adieu',\n",
       " 'adieus',\n",
       " 'adjoining',\n",
       " 'adjusting',\n",
       " 'administer',\n",
       " 'administering',\n",
       " 'admirable',\n",
       " 'admiration',\n",
       " 'admire',\n",
       " 'admired',\n",
       " 'admirers',\n",
       " 'admires',\n",
       " 'admiring',\n",
       " 'admission',\n",
       " 'admit',\n",
       " 'admittance',\n",
       " 'admitted',\n",
       " 'admitting',\n",
       " 'adopt',\n",
       " 'adopted',\n",
       " 'adorned',\n",
       " 'advance',\n",
       " 'advanced',\n",
       " 'advancement',\n",
       " 'advances',\n",
       " 'advancing',\n",
       " 'advantage',\n",
       " 'advantageous',\n",
       " 'advantages',\n",
       " 'advice',\n",
       " 'advisable',\n",
       " 'advise',\n",
       " 'advised',\n",
       " 'affability',\n",
       " 'affable',\n",
       " 'affair',\n",
       " 'affairs',\n",
       " 'affect',\n",
       " 'affectation',\n",
       " 'affected',\n",
       " 'affectedly',\n",
       " 'affecting',\n",
       " 'affection',\n",
       " 'affectionate',\n",
       " 'affectionately',\n",
       " 'affections',\n",
       " 'affects',\n",
       " 'affirmative',\n",
       " 'affixed',\n",
       " 'afflict',\n",
       " 'afflicted',\n",
       " 'afflicting',\n",
       " 'affliction',\n",
       " 'afflictions',\n",
       " 'affluence',\n",
       " 'afford',\n",
       " 'afforded',\n",
       " 'affording',\n",
       " 'affront',\n",
       " 'affronting',\n",
       " 'afraid',\n",
       " 'after',\n",
       " 'afternoon',\n",
       " 'afterward',\n",
       " 'afterwards',\n",
       " 'again',\n",
       " 'against',\n",
       " 'age',\n",
       " 'ages',\n",
       " 'aggrandizement',\n",
       " 'aggravation',\n",
       " 'agitate',\n",
       " 'agitated',\n",
       " 'agitation',\n",
       " 'ago',\n",
       " 'agonies',\n",
       " 'agony',\n",
       " 'agree',\n",
       " 'agreeable',\n",
       " 'agreed',\n",
       " 'agreeing',\n",
       " 'agreement',\n",
       " 'aid',\n",
       " 'ailment',\n",
       " 'ailments',\n",
       " 'aim',\n",
       " 'aimed',\n",
       " 'air',\n",
       " 'alacrity',\n",
       " 'alarm',\n",
       " 'alarmed',\n",
       " 'alarming',\n",
       " 'alarms',\n",
       " 'alienated',\n",
       " 'alighted',\n",
       " 'alike',\n",
       " 'alive',\n",
       " 'all',\n",
       " 'alleged',\n",
       " 'alleviation',\n",
       " 'allow',\n",
       " 'allowable',\n",
       " 'allowance',\n",
       " 'allowances',\n",
       " 'allowed',\n",
       " 'allowing',\n",
       " 'alloy',\n",
       " 'alluded',\n",
       " 'allusion',\n",
       " 'almost',\n",
       " 'alone',\n",
       " 'along',\n",
       " 'aloud',\n",
       " 'alphabet',\n",
       " 'already',\n",
       " 'also',\n",
       " 'altar',\n",
       " 'alter',\n",
       " 'alteration',\n",
       " 'alterations',\n",
       " 'altered',\n",
       " 'altering',\n",
       " 'alternately',\n",
       " 'alternative',\n",
       " 'although',\n",
       " 'altogether',\n",
       " 'always',\n",
       " 'am',\n",
       " 'amazement',\n",
       " 'amazing',\n",
       " 'amazingly',\n",
       " 'ambition',\n",
       " 'amended',\n",
       " 'amendment',\n",
       " 'amends',\n",
       " 'amiable',\n",
       " 'amiably',\n",
       " 'amidst',\n",
       " 'amiss',\n",
       " 'among',\n",
       " 'amongst',\n",
       " 'amount',\n",
       " 'amounted',\n",
       " 'ample',\n",
       " ...]"
      ]
     },
     "execution_count": 31,
     "metadata": {},
     "output_type": "execute_result"
    }
   ],
   "source": [
    "sorted(set(text2))"
   ]
  },
  {
   "cell_type": "code",
   "execution_count": 33,
   "metadata": {},
   "outputs": [
    {
     "data": {
      "text/plain": [
       "0.06230453042623537"
      ]
     },
     "execution_count": 33,
     "metadata": {},
     "output_type": "execute_result"
    }
   ],
   "source": [
    "len(set(text3))/len(text3)"
   ]
  },
  {
   "cell_type": "markdown",
   "metadata": {},
   "source": [
    "Distinct words are only 6% of the whole text3"
   ]
  },
  {
   "cell_type": "code",
   "execution_count": 34,
   "metadata": {},
   "outputs": [
    {
     "data": {
      "text/plain": [
       "5"
      ]
     },
     "execution_count": 34,
     "metadata": {},
     "output_type": "execute_result"
    }
   ],
   "source": [
    "text3.count('smote')"
   ]
  },
  {
   "cell_type": "code",
   "execution_count": 36,
   "metadata": {},
   "outputs": [
    {
     "data": {
      "text/plain": [
       "1.4643016433938312"
      ]
     },
     "execution_count": 36,
     "metadata": {},
     "output_type": "execute_result"
    }
   ],
   "source": [
    "#  compute what percentage of the text is taken up by a specific word:\n",
    "100 * text4.count('a') / len(text4)"
   ]
  },
  {
   "cell_type": "code",
   "execution_count": 37,
   "metadata": {},
   "outputs": [
    {
     "data": {
      "text/plain": [
       "1.5640968673628082"
      ]
     },
     "execution_count": 37,
     "metadata": {},
     "output_type": "execute_result"
    }
   ],
   "source": [
    "100 * text5.count('lol') / len(text5)"
   ]
  },
  {
   "cell_type": "code",
   "execution_count": 40,
   "metadata": {},
   "outputs": [],
   "source": [
    "def lexical_diversity(text):\n",
    "    return len(set(text)) / len(text)\n",
    "\n",
    "def percentage(count, total):\n",
    "    return 100 * count / total"
   ]
  },
  {
   "cell_type": "code",
   "execution_count": 39,
   "metadata": {},
   "outputs": [
    {
     "data": {
      "text/plain": [
       "['Call', 'me', 'Ishmael', '.']"
      ]
     },
     "execution_count": 39,
     "metadata": {},
     "output_type": "execute_result"
    }
   ],
   "source": [
    "sent1"
   ]
  },
  {
   "cell_type": "code",
   "execution_count": 45,
   "metadata": {},
   "outputs": [
    {
     "data": {
      "text/plain": [
       "FreqDist({',': 18713, 'the': 13721, '.': 6862, 'of': 6536, 'and': 6024, 'a': 4569, 'to': 4542, ';': 4072, 'in': 3916, 'that': 2982, ...})"
      ]
     },
     "execution_count": 45,
     "metadata": {},
     "output_type": "execute_result"
    }
   ],
   "source": [
    "# find 50 most common words with FreqDist\n",
    "fdist1 = FreqDist(text1)\n",
    "fdist1"
   ]
  },
  {
   "cell_type": "code",
   "execution_count": 46,
   "metadata": {},
   "outputs": [
    {
     "data": {
      "text/plain": [
       "[(',', 18713),\n",
       " ('the', 13721),\n",
       " ('.', 6862),\n",
       " ('of', 6536),\n",
       " ('and', 6024),\n",
       " ('a', 4569),\n",
       " ('to', 4542),\n",
       " (';', 4072),\n",
       " ('in', 3916),\n",
       " ('that', 2982),\n",
       " (\"'\", 2684),\n",
       " ('-', 2552),\n",
       " ('his', 2459),\n",
       " ('it', 2209),\n",
       " ('I', 2124),\n",
       " ('s', 1739),\n",
       " ('is', 1695),\n",
       " ('he', 1661),\n",
       " ('with', 1659),\n",
       " ('was', 1632),\n",
       " ('as', 1620),\n",
       " ('\"', 1478),\n",
       " ('all', 1462),\n",
       " ('for', 1414),\n",
       " ('this', 1280),\n",
       " ('!', 1269),\n",
       " ('at', 1231),\n",
       " ('by', 1137),\n",
       " ('but', 1113),\n",
       " ('not', 1103),\n",
       " ('--', 1070),\n",
       " ('him', 1058),\n",
       " ('from', 1052),\n",
       " ('be', 1030),\n",
       " ('on', 1005),\n",
       " ('so', 918),\n",
       " ('whale', 906),\n",
       " ('one', 889),\n",
       " ('you', 841),\n",
       " ('had', 767),\n",
       " ('have', 760),\n",
       " ('there', 715),\n",
       " ('But', 705),\n",
       " ('or', 697),\n",
       " ('were', 680),\n",
       " ('now', 646),\n",
       " ('which', 640),\n",
       " ('?', 637),\n",
       " ('me', 627),\n",
       " ('like', 624)]"
      ]
     },
     "execution_count": 46,
     "metadata": {},
     "output_type": "execute_result"
    }
   ],
   "source": [
    "fdist1.most_common(50)"
   ]
  },
  {
   "cell_type": "code",
   "execution_count": 47,
   "metadata": {},
   "outputs": [
    {
     "data": {
      "text/plain": [
       "906"
      ]
     },
     "execution_count": 47,
     "metadata": {},
     "output_type": "execute_result"
    }
   ],
   "source": [
    "fdist1['whale']"
   ]
  },
  {
   "cell_type": "code",
   "execution_count": 55,
   "metadata": {},
   "outputs": [
    {
     "data": {
      "image/png": "[encoded data removed]",
      "text/plain": [
       "<Figure size 864x864 with 1 Axes>"
      ]
     },
     "metadata": {},
     "output_type": "display_data"
    },
    {
     "data": {
      "text/plain": [
       "<function matplotlib.pyplot.show(*args, **kw)>"
      ]
     },
     "execution_count": 55,
     "metadata": {},
     "output_type": "execute_result"
    }
   ],
   "source": [
    "from matplotlib import pyplot as plt\n",
    "plt.figure(figsize=(12,12))\n",
    "fdist1.plot(50, cumulative=True)\n",
    "plt.show"
   ]
  },
  {
   "cell_type": "markdown",
   "metadata": {},
   "source": [
    "the set of all w such that w is an element of V (the vocabulary) and w has property P"
   ]
  },
  {
   "cell_type": "code",
   "execution_count": 56,
   "metadata": {
    "scrolled": true
   },
   "outputs": [
    {
     "data": {
      "text/plain": [
       "['Bibliographical',\n",
       " 'CIRCUMNAVIGATION',\n",
       " 'Ehrenbreitstein',\n",
       " 'Mephistophelean',\n",
       " 'Physiognomically',\n",
       " 'amphitheatrical',\n",
       " 'apprehensiveness',\n",
       " 'archiepiscopacy',\n",
       " 'authoritatively',\n",
       " 'cannibalistically',\n",
       " 'characteristically',\n",
       " 'characteristics',\n",
       " 'circumnavigated',\n",
       " 'circumnavigating',\n",
       " 'circumnavigation',\n",
       " 'circumnavigations',\n",
       " 'comfortableness',\n",
       " 'comprehensively',\n",
       " 'comprehensiveness',\n",
       " 'conscientiously',\n",
       " 'disembowelments',\n",
       " 'dissatisfaction',\n",
       " 'hermaphroditical',\n",
       " 'heterogeneously',\n",
       " 'indiscriminately',\n",
       " 'indispensableness',\n",
       " 'individualities',\n",
       " 'individualizing',\n",
       " 'indomitableness',\n",
       " 'inoffensiveness',\n",
       " 'instantaneously',\n",
       " 'interchangeably',\n",
       " 'internationally',\n",
       " 'interrogatively',\n",
       " 'intolerableness',\n",
       " 'irresistibleness',\n",
       " 'miscellaneously',\n",
       " 'multitudinously',\n",
       " 'notwithstanding',\n",
       " 'passionlessness',\n",
       " 'perpendicularly',\n",
       " 'philanthropists',\n",
       " 'philosophically',\n",
       " 'phosphorescence',\n",
       " 'phrenologically',\n",
       " 'physiognomically',\n",
       " 'picturesqueness',\n",
       " 'preternaturalness',\n",
       " 'responsibilities',\n",
       " 'simultaneousness',\n",
       " 'skrimshandering',\n",
       " 'subterraneousness',\n",
       " 'superfluousness',\n",
       " 'supernaturalism',\n",
       " 'supernaturalness',\n",
       " 'superstitiously',\n",
       " 'superstitiousness',\n",
       " 'sympathetically',\n",
       " 'systematization',\n",
       " 'thoughtlessness',\n",
       " 'uncatastrophied',\n",
       " 'unceremoniously',\n",
       " 'uncomfortableness',\n",
       " 'uncompromisedness',\n",
       " 'unconditionally',\n",
       " 'unconsciousness',\n",
       " 'undiscriminating',\n",
       " 'uninterpenetratingly',\n",
       " 'unprecedentedly',\n",
       " 'unsophisticated',\n",
       " 'unsurrenderable',\n",
       " 'untraditionally']"
      ]
     },
     "execution_count": 56,
     "metadata": {},
     "output_type": "execute_result"
    }
   ],
   "source": [
    "V = set(text1)\n",
    "long_words = [w for w in V if len(w) > 14]\n",
    "sorted(long_words)"
   ]
  },
  {
   "cell_type": "code",
   "execution_count": 57,
   "metadata": {},
   "outputs": [
    {
     "data": {
      "text/plain": [
       "['#14-19teens',\n",
       " '#talkcity_adults',\n",
       " '((((((((((',\n",
       " '........',\n",
       " 'Question',\n",
       " 'actually',\n",
       " 'anything',\n",
       " 'computer',\n",
       " 'cute.-ass',\n",
       " 'everyone',\n",
       " 'football',\n",
       " 'innocent',\n",
       " 'listening',\n",
       " 'remember',\n",
       " 'seriously',\n",
       " 'something',\n",
       " 'together',\n",
       " 'tomorrow',\n",
       " 'watching']"
      ]
     },
     "execution_count": 57,
     "metadata": {},
     "output_type": "execute_result"
    }
   ],
   "source": [
    "fdist5 = FreqDist(text5)\n",
    "sorted(w for w in set(text5) if len(w) > 7 and fdist5[w] > 7)"
   ]
  },
  {
   "cell_type": "markdown",
   "metadata": {},
   "source": [
    "A collocation is a sequence of words that occur together unusually often. Thus red wine is a collocation, whereas the wine is not. A characteristic of collocations is that they are resistant to substitution with words that have similar senses; for example, maroon wine sounds definitely odd.\n",
    "\n",
    "To get a handle on collocations, we start off by extracting from a text a list of word pairs, also known as bigrams. This is easily accomplished with the function bigrams():"
   ]
  },
  {
   "cell_type": "code",
   "execution_count": 58,
   "metadata": {},
   "outputs": [
    {
     "data": {
      "text/plain": [
       "[('more', 'is'), ('is', 'said'), ('said', 'than'), ('than', 'done')]"
      ]
     },
     "execution_count": 58,
     "metadata": {},
     "output_type": "execute_result"
    }
   ],
   "source": [
    "list(bigrams(['more', 'is', 'said', 'than', 'done']))"
   ]
  },
  {
   "cell_type": "code",
   "execution_count": 59,
   "metadata": {},
   "outputs": [
    {
     "name": "stdout",
     "output_type": "stream",
     "text": [
      "United States; fellow citizens; four years; years ago; Federal\n",
      "Government; General Government; American people; Vice President; Old\n",
      "World; Almighty God; Fellow citizens; Chief Magistrate; Chief Justice;\n",
      "God bless; every citizen; Indian tribes; public debt; one another;\n",
      "foreign nations; political parties\n"
     ]
    }
   ],
   "source": [
    "text4.collocations()"
   ]
  },
  {
   "cell_type": "code",
   "execution_count": 62,
   "metadata": {},
   "outputs": [
    {
     "name": "stdout",
     "output_type": "stream",
     "text": [
      "Colonel Brandon; Sir John; Lady Middleton; Miss Dashwood; every thing;\n",
      "thousand pounds; dare say; Miss Steeles; said Elinor; Miss Steele;\n",
      "every body; John Dashwood; great deal; Harley Street; Berkeley Street;\n",
      "Miss Dashwoods; young man; Combe Magna; every day; next morning\n"
     ]
    }
   ],
   "source": [
    "text2.collocations()"
   ]
  },
  {
   "cell_type": "code",
   "execution_count": 63,
   "metadata": {},
   "outputs": [
    {
     "data": {
      "text/plain": [
       "FreqDist({3: 50223, 1: 47933, 4: 42345, 2: 38513, 5: 26597, 6: 17111, 7: 14399, 8: 9966, 9: 6428, 10: 3528, ...})"
      ]
     },
     "execution_count": 63,
     "metadata": {},
     "output_type": "execute_result"
    }
   ],
   "source": [
    "fdist = FreqDist(len(w) for w in text1)\n",
    "fdist"
   ]
  },
  {
   "cell_type": "code",
   "execution_count": 64,
   "metadata": {},
   "outputs": [
    {
     "data": {
      "text/plain": [
       "[(3, 50223),\n",
       " (1, 47933),\n",
       " (4, 42345),\n",
       " (2, 38513),\n",
       " (5, 26597),\n",
       " (6, 17111),\n",
       " (7, 14399),\n",
       " (8, 9966),\n",
       " (9, 6428),\n",
       " (10, 3528),\n",
       " (11, 1873),\n",
       " (12, 1053),\n",
       " (13, 567),\n",
       " (14, 177),\n",
       " (15, 70),\n",
       " (16, 22),\n",
       " (17, 12),\n",
       " (18, 1),\n",
       " (20, 1)]"
      ]
     },
     "execution_count": 64,
     "metadata": {},
     "output_type": "execute_result"
    }
   ],
   "source": [
    "fdist.most_common()"
   ]
  },
  {
   "cell_type": "code",
   "execution_count": 65,
   "metadata": {},
   "outputs": [
    {
     "data": {
      "text/plain": [
       "3"
      ]
     },
     "execution_count": 65,
     "metadata": {},
     "output_type": "execute_result"
    }
   ],
   "source": [
    "fdist.max()"
   ]
  },
  {
   "cell_type": "code",
   "execution_count": 66,
   "metadata": {},
   "outputs": [
    {
     "data": {
      "text/plain": [
       "50223"
      ]
     },
     "execution_count": 66,
     "metadata": {},
     "output_type": "execute_result"
    }
   ],
   "source": [
    "fdist[3]"
   ]
  },
  {
   "cell_type": "code",
   "execution_count": 67,
   "metadata": {},
   "outputs": [
    {
     "data": {
      "text/plain": [
       "0.19255882431878046"
      ]
     },
     "execution_count": 67,
     "metadata": {},
     "output_type": "execute_result"
    }
   ],
   "source": [
    "fdist.freq(3)"
   ]
  },
  {
   "cell_type": "code",
   "execution_count": 69,
   "metadata": {},
   "outputs": [
    {
     "data": {
      "text/plain": [
       "['[',\n",
       " 'MOBY',\n",
       " 'DICK',\n",
       " 'BY',\n",
       " 'HERMAN',\n",
       " 'MELVILLE',\n",
       " '1851',\n",
       " ']',\n",
       " 'ETYMOLOGY',\n",
       " '.',\n",
       " '(']"
      ]
     },
     "execution_count": 69,
     "metadata": {},
     "output_type": "execute_result"
    }
   ],
   "source": [
    "[w.upper() for w in text1][:11]"
   ]
  },
  {
   "cell_type": "code",
   "execution_count": 71,
   "metadata": {},
   "outputs": [
    {
     "data": {
      "text/plain": [
       "16948"
      ]
     },
     "execution_count": 71,
     "metadata": {},
     "output_type": "execute_result"
    }
   ],
   "source": [
    "# filter out any non-alphabetic items, and create a set of the words\n",
    "len(set(word.lower() for word in text1 if word.isalpha()))"
   ]
  },
  {
   "cell_type": "code",
   "execution_count": 72,
   "metadata": {},
   "outputs": [
    {
     "data": {
      "text/plain": [
       "['austen-emma.txt',\n",
       " 'austen-persuasion.txt',\n",
       " 'austen-sense.txt',\n",
       " 'bible-kjv.txt',\n",
       " 'blake-poems.txt',\n",
       " 'bryant-stories.txt',\n",
       " 'burgess-busterbrown.txt',\n",
       " 'carroll-alice.txt',\n",
       " 'chesterton-ball.txt',\n",
       " 'chesterton-brown.txt',\n",
       " 'chesterton-thursday.txt',\n",
       " 'edgeworth-parents.txt',\n",
       " 'melville-moby_dick.txt',\n",
       " 'milton-paradise.txt',\n",
       " 'shakespeare-caesar.txt',\n",
       " 'shakespeare-hamlet.txt',\n",
       " 'shakespeare-macbeth.txt',\n",
       " 'whitman-leaves.txt']"
      ]
     },
     "execution_count": 72,
     "metadata": {},
     "output_type": "execute_result"
    }
   ],
   "source": [
    "import nltk\n",
    "nltk.corpus.gutenberg.fileids()"
   ]
  },
  {
   "cell_type": "code",
   "execution_count": null,
   "metadata": {},
   "outputs": [],
   "source": []
  }
 ],
 "metadata": {
  "kernelspec": {
   "display_name": "Python 3",
   "language": "python",
   "name": "python3"
  },
  "language_info": {
   "codemirror_mode": {
    "name": "ipython",
    "version": 3
   },
   "file_extension": ".py",
   "mimetype": "text/x-python",
   "name": "python",
   "nbconvert_exporter": "python",
   "pygments_lexer": "ipython3",
   "version": "3.6.5"
  }
 },
 "nbformat": 4,
 "nbformat_minor": 2
}
